{
 "cells": [
  {
   "cell_type": "code",
   "execution_count": 1,
   "id": "28593876",
   "metadata": {
    "collapsed": false,
    "jupyter": {
     "outputs_hidden": false
    }
   },
   "outputs": [],
   "source": [
    "import numpy as np\n",
    "import pandas as pd\n",
    "import matplotlib as plt\n",
    "import seaborn as sns\n",
    "import scipy"
   ]
  },
  {
   "cell_type": "markdown",
   "source": [
    "## Analysis of data structure\n",
    "### Importing the dataset.. Reading the .csv files\n",
    "\n",
    "We have 3 .csv files which are seperated with tabulators. The files provide information about users, their shopping sessions and about the shop they've visited.\n",
    "\n"
   ],
   "metadata": {
    "collapsed": false
   }
  },
  {
   "cell_type": "code",
   "execution_count": 19,
   "outputs": [],
   "source": [
    "productData = pd.read_csv(\"dataset/product.csv\",sep=\"\\t\")"
   ],
   "metadata": {
    "collapsed": false
   }
  },
  {
   "cell_type": "code",
   "execution_count": 32,
   "outputs": [
    {
     "name": "stdout",
     "output_type": "stream",
     "text": [
      "Number of records: 14975\n",
      "Number of attributes: 4\n"
     ]
    }
   ],
   "source": [
    "print(f\"Number of records: {productData.shape[0]}\\nNumber of attributes: {productData.shape[1]}\")"
   ],
   "metadata": {
    "collapsed": false
   }
  },
  {
   "cell_type": "code",
   "execution_count": 36,
   "outputs": [
    {
     "name": "stdout",
     "output_type": "stream",
     "text": [
      "<class 'pandas.core.frame.DataFrame'>\n",
      "RangeIndex: 14975 entries, 0 to 14974\n",
      "Data columns (total 4 columns):\n",
      " #   Column       Non-Null Count  Dtype \n",
      "---  ------       --------------  ----- \n",
      " 0   location     14975 non-null  object\n",
      " 1   product_ean  14975 non-null  int64 \n",
      " 2   code         14960 non-null  object\n",
      " 3   store_name   14975 non-null  object\n",
      "dtypes: int64(1), object(3)\n",
      "memory usage: 468.1+ KB\n"
     ]
    }
   ],
   "source": [
    "productData.info()"
   ],
   "metadata": {
    "collapsed": false
   }
  },
  {
   "cell_type": "code",
   "execution_count": 2,
   "outputs": [],
   "source": [
    "userData = pd.read_csv(\"dataset/user.csv\",sep=\"\\t\")"
   ],
   "metadata": {
    "collapsed": false
   }
  },
  {
   "cell_type": "code",
   "execution_count": 37,
   "outputs": [
    {
     "name": "stdout",
     "output_type": "stream",
     "text": [
      "Number of records: 2525\n",
      "Number of attributes: 11\n"
     ]
    }
   ],
   "source": [
    "print(f\"Number of records: {userData.shape[0]}\\nNumber of attributes: {userData.shape[1]}\")"
   ],
   "metadata": {
    "collapsed": false
   }
  },
  {
   "cell_type": "code",
   "execution_count": 29,
   "outputs": [
    {
     "name": "stdout",
     "output_type": "stream",
     "text": [
      "<class 'pandas.core.frame.DataFrame'>\n",
      "RangeIndex: 2525 entries, 0 to 2524\n",
      "Data columns (total 11 columns):\n",
      " #   Column            Non-Null Count  Dtype \n",
      "---  ------            --------------  ----- \n",
      " 0   sex               1263 non-null   object\n",
      " 1   residence         884 non-null    object\n",
      " 2   username          2525 non-null   object\n",
      " 3   user_id           2525 non-null   int64 \n",
      " 4   address           2146 non-null   object\n",
      " 5   current_location  2399 non-null   object\n",
      " 6   registration      2525 non-null   object\n",
      " 7   race              757 non-null    object\n",
      " 8   name              2525 non-null   object\n",
      " 9   birthdate         1389 non-null   object\n",
      " 10  mail              2525 non-null   object\n",
      "dtypes: int64(1), object(10)\n",
      "memory usage: 217.1+ KB\n"
     ]
    }
   ],
   "source": [
    "userData.info()"
   ],
   "metadata": {
    "collapsed": false
   }
  },
  {
   "cell_type": "code",
   "execution_count": 25,
   "outputs": [],
   "source": [
    "sessionData = pd.read_csv(\"dataset/session.csv\",sep=\"\\t\")"
   ],
   "metadata": {
    "collapsed": false
   }
  },
  {
   "cell_type": "code",
   "execution_count": 38,
   "outputs": [
    {
     "name": "stdout",
     "output_type": "stream",
     "text": [
      "Number of records: 11107\n",
      "Number of attributes: 25\n"
     ]
    }
   ],
   "source": [
    "print(f\"Number of records: {sessionData.shape[0]}\\nNumber of attributes: {sessionData.shape[1]}\")"
   ],
   "metadata": {
    "collapsed": false
   }
  },
  {
   "cell_type": "markdown",
   "source": [
    "in the info we see that sessionData has string object columns. That's a problem in the data so we need to convert it to something reasonable"
   ],
   "metadata": {
    "collapsed": false
   }
  },
  {
   "cell_type": "code",
   "execution_count": 30,
   "outputs": [
    {
     "name": "stdout",
     "output_type": "stream",
     "text": [
      "<class 'pandas.core.frame.DataFrame'>\n",
      "RangeIndex: 11107 entries, 0 to 11106\n",
      "Data columns (total 25 columns):\n",
      " #   Column                          Non-Null Count  Dtype  \n",
      "---  ------                          --------------  -----  \n",
      " 0   pct_click_product_info          11096 non-null  float64\n",
      " 1   user_id                         11107 non-null  int64  \n",
      " 2   screen_height                   11107 non-null  object \n",
      " 3   pct_scroll_move_duration        11096 non-null  float64\n",
      " 4   scroll_move_total_rel_distance  11096 non-null  float64\n",
      " 5   pct_click                       11096 non-null  float64\n",
      " 6   pct_scrandom                    11095 non-null  float64\n",
      " 7   pct_wild_mouse                  11096 non-null  float64\n",
      " 8   session_id                      11107 non-null  int64  \n",
      " 9   browser_name                    11107 non-null  object \n",
      " 10  pct_input                       11096 non-null  float64\n",
      " 11  screen_width                    11107 non-null  object \n",
      " 12  mouse_move_total_rel_distance   11096 non-null  float64\n",
      " 13  pct_mouse_click                 11096 non-null  float64\n",
      " 14  wild_mouse_duration             11096 non-null  float64\n",
      " 15  pct_mouse_move                  11096 non-null  float64\n",
      " 16  pct_doubleclick                 11095 non-null  float64\n",
      " 17  pct_rage_click                  11096 non-null  float64\n",
      " 18  ack                             11107 non-null  float64\n",
      " 19  page_activity_duration          11096 non-null  float64\n",
      " 20  total_load_time                 11107 non-null  float64\n",
      " 21  pct_scroll_move                 11096 non-null  float64\n",
      " 22  product_ean                     11107 non-null  int64  \n",
      " 23  session_duration                11107 non-null  float64\n",
      " 24  session_start                   11107 non-null  object \n",
      "dtypes: float64(18), int64(3), object(4)\n",
      "memory usage: 2.1+ MB\n"
     ]
    }
   ],
   "source": [
    "sessionData.info()"
   ],
   "metadata": {
    "collapsed": false
   }
  },
  {
   "cell_type": "markdown",
   "source": [
    "productData has rows with NaN, we will delete them"
   ],
   "metadata": {
    "collapsed": false
   }
  },
  {
   "cell_type": "code",
   "execution_count": 39,
   "outputs": [],
   "source": [
    "productData = productData.dropna()"
   ],
   "metadata": {
    "collapsed": false
   }
  },
  {
   "cell_type": "code",
   "execution_count": 40,
   "outputs": [],
   "source": [
    "productData = productData.reset_index().drop(\"index\",axis=1)"
   ],
   "metadata": {
    "collapsed": false
   }
  },
  {
   "cell_type": "markdown",
   "source": [
    "session_start should be a timestamp so we use to_datetime() to convert it"
   ],
   "metadata": {
    "collapsed": false
   }
  },
  {
   "cell_type": "code",
   "execution_count": 41,
   "outputs": [],
   "source": [
    "sessionData[\"session_start\"] = pd.to_datetime(sessionData[\"session_start\"])"
   ],
   "metadata": {
    "collapsed": false
   }
  },
  {
   "cell_type": "markdown",
   "source": [
    "replacing ack 1/0 values with True/False"
   ],
   "metadata": {
    "collapsed": false
   }
  },
  {
   "cell_type": "code",
   "execution_count": 42,
   "outputs": [],
   "source": [
    "a = [bool(val) for val in sessionData[\"ack\"]]\n",
    "sessionData[\"ack\"] = a"
   ],
   "metadata": {
    "collapsed": false
   }
  },
  {
   "cell_type": "markdown",
   "source": [
    "replacing higher/lower in screen height/width columns with the max and min values of the columns (higher = max , lower = min)"
   ],
   "metadata": {
    "collapsed": false
   }
  },
  {
   "cell_type": "code",
   "execution_count": 43,
   "outputs": [],
   "source": [
    "heights = [int(i) for i in sessionData.screen_height.unique() if i not in [\"lower\", \"higher\"]]\n",
    "replacer = {\"lower\":min(heights),\"higher\": max(heights)}\n",
    "\n",
    "sessionData.screen_height = [int(i) if i not in [\"lower\", \"higher\"] else replacer.get(i) for i in sessionData[\"screen_height\"] ]"
   ],
   "metadata": {
    "collapsed": false
   }
  },
  {
   "cell_type": "code",
   "execution_count": 44,
   "outputs": [],
   "source": [
    "widths = [int(i) for i in sessionData.screen_width.unique() if i not in [\"lower\", \"higher\"]]\n",
    "replacer = {\"lower\":min(widths),\"higher\": max(widths)}\n",
    "\n",
    "sessionData.screen_width = [int(i) if i not in [\"lower\", \"higher\"] else replacer.get(i) for i in sessionData[\"screen_width\"]]"
   ],
   "metadata": {
    "collapsed": false
   }
  },
  {
   "cell_type": "markdown",
   "source": [
    "replacing browser names with numbers from 0 to 6"
   ],
   "metadata": {
    "collapsed": false
   }
  },
  {
   "cell_type": "code",
   "execution_count": 45,
   "outputs": [
    {
     "name": "stdout",
     "output_type": "stream",
     "text": [
      "{'firefox': 0, 'edge': 1, 'chrome': 2, 'mobile': 3, 'safari': 4, 'opera': 5, 'other': 6}\n"
     ]
    }
   ],
   "source": [
    "browsers = {k:v for k,v in zip(sessionData.browser_name.unique(), range(len(sessionData.browser_name.unique())))}\n",
    "print(browsers)"
   ],
   "metadata": {
    "collapsed": false
   }
  },
  {
   "cell_type": "code",
   "execution_count": 46,
   "outputs": [],
   "source": [
    "sessionData.browser_name = [browsers.get(browser) for browser in sessionData.browser_name]"
   ],
   "metadata": {
    "collapsed": false
   }
  },
  {
   "cell_type": "markdown",
   "source": [
    "sort the data by date and set the date as the index"
   ],
   "metadata": {
    "collapsed": false
   }
  },
  {
   "cell_type": "code",
   "execution_count": 88,
   "outputs": [],
   "source": [
    "sessionDataByDate = sessionData.sort_values(by=\"session_start\")"
   ],
   "metadata": {
    "collapsed": false
   }
  },
  {
   "cell_type": "code",
   "execution_count": 89,
   "outputs": [],
   "source": [
    "sessionDataByDate.set_index(\"session_start\", inplace=True)"
   ],
   "metadata": {
    "collapsed": false
   }
  },
  {
   "cell_type": "code",
   "execution_count": 90,
   "outputs": [
    {
     "name": "stderr",
     "output_type": "stream",
     "text": [
      "Exception ignored in: <function TransformNode.set_children.<locals>.<lambda> at 0x000002011FD0FE20>\n",
      "Traceback (most recent call last):\n",
      "  File \"C:\\Users\\pc-Gábor\\Documents\\FIIT\\zadanie\\venv\\Lib\\site-packages\\matplotlib\\transforms.py\", line 198, in <lambda>\n",
      "    self, lambda _, pop=child._parents.pop, k=id_self: pop(k))\n",
      "                                                       ^^^^^^\n",
      "KeyboardInterrupt: \n",
      "\n",
      "KeyboardInterrupt\n",
      "\n"
     ]
    },
    {
     "name": "stdout",
     "output_type": "stream",
     "text": [
      "Error in callback <function _draw_all_if_interactive at 0x0000020140A1BBA0> (for post_execute):\n"
     ]
    },
    {
     "ename": "KeyboardInterrupt",
     "evalue": "",
     "output_type": "error",
     "traceback": [
      "\u001B[1;31m---------------------------------------------------------------------------\u001B[0m",
      "\u001B[1;31mKeyboardInterrupt\u001B[0m                         Traceback (most recent call last)",
      "File \u001B[1;32m~\\Documents\\FIIT\\zadanie\\venv\\Lib\\site-packages\\matplotlib\\pyplot.py:197\u001B[0m, in \u001B[0;36m_draw_all_if_interactive\u001B[1;34m()\u001B[0m\n\u001B[0;32m    195\u001B[0m \u001B[38;5;28;01mdef\u001B[39;00m \u001B[38;5;21m_draw_all_if_interactive\u001B[39m() \u001B[38;5;241m-\u001B[39m\u001B[38;5;241m>\u001B[39m \u001B[38;5;28;01mNone\u001B[39;00m:\n\u001B[0;32m    196\u001B[0m     \u001B[38;5;28;01mif\u001B[39;00m matplotlib\u001B[38;5;241m.\u001B[39mis_interactive():\n\u001B[1;32m--> 197\u001B[0m         \u001B[43mdraw_all\u001B[49m\u001B[43m(\u001B[49m\u001B[43m)\u001B[49m\n",
      "File \u001B[1;32m~\\Documents\\FIIT\\zadanie\\venv\\Lib\\site-packages\\matplotlib\\_pylab_helpers.py:132\u001B[0m, in \u001B[0;36mGcf.draw_all\u001B[1;34m(cls, force)\u001B[0m\n\u001B[0;32m    130\u001B[0m \u001B[38;5;28;01mfor\u001B[39;00m manager \u001B[38;5;129;01min\u001B[39;00m \u001B[38;5;28mcls\u001B[39m\u001B[38;5;241m.\u001B[39mget_all_fig_managers():\n\u001B[0;32m    131\u001B[0m     \u001B[38;5;28;01mif\u001B[39;00m force \u001B[38;5;129;01mor\u001B[39;00m manager\u001B[38;5;241m.\u001B[39mcanvas\u001B[38;5;241m.\u001B[39mfigure\u001B[38;5;241m.\u001B[39mstale:\n\u001B[1;32m--> 132\u001B[0m         \u001B[43mmanager\u001B[49m\u001B[38;5;241;43m.\u001B[39;49m\u001B[43mcanvas\u001B[49m\u001B[38;5;241;43m.\u001B[39;49m\u001B[43mdraw_idle\u001B[49m\u001B[43m(\u001B[49m\u001B[43m)\u001B[49m\n",
      "File \u001B[1;32m~\\Documents\\FIIT\\zadanie\\venv\\Lib\\site-packages\\matplotlib\\backend_bases.py:1893\u001B[0m, in \u001B[0;36mFigureCanvasBase.draw_idle\u001B[1;34m(self, *args, **kwargs)\u001B[0m\n\u001B[0;32m   1891\u001B[0m \u001B[38;5;28;01mif\u001B[39;00m \u001B[38;5;129;01mnot\u001B[39;00m \u001B[38;5;28mself\u001B[39m\u001B[38;5;241m.\u001B[39m_is_idle_drawing:\n\u001B[0;32m   1892\u001B[0m     \u001B[38;5;28;01mwith\u001B[39;00m \u001B[38;5;28mself\u001B[39m\u001B[38;5;241m.\u001B[39m_idle_draw_cntx():\n\u001B[1;32m-> 1893\u001B[0m         \u001B[38;5;28;43mself\u001B[39;49m\u001B[38;5;241;43m.\u001B[39;49m\u001B[43mdraw\u001B[49m\u001B[43m(\u001B[49m\u001B[38;5;241;43m*\u001B[39;49m\u001B[43margs\u001B[49m\u001B[43m,\u001B[49m\u001B[43m \u001B[49m\u001B[38;5;241;43m*\u001B[39;49m\u001B[38;5;241;43m*\u001B[39;49m\u001B[43mkwargs\u001B[49m\u001B[43m)\u001B[49m\n",
      "File \u001B[1;32m~\\Documents\\FIIT\\zadanie\\venv\\Lib\\site-packages\\matplotlib\\backends\\backend_agg.py:388\u001B[0m, in \u001B[0;36mFigureCanvasAgg.draw\u001B[1;34m(self)\u001B[0m\n\u001B[0;32m    385\u001B[0m \u001B[38;5;66;03m# Acquire a lock on the shared font cache.\u001B[39;00m\n\u001B[0;32m    386\u001B[0m \u001B[38;5;28;01mwith\u001B[39;00m (\u001B[38;5;28mself\u001B[39m\u001B[38;5;241m.\u001B[39mtoolbar\u001B[38;5;241m.\u001B[39m_wait_cursor_for_draw_cm() \u001B[38;5;28;01mif\u001B[39;00m \u001B[38;5;28mself\u001B[39m\u001B[38;5;241m.\u001B[39mtoolbar\n\u001B[0;32m    387\u001B[0m       \u001B[38;5;28;01melse\u001B[39;00m nullcontext()):\n\u001B[1;32m--> 388\u001B[0m     \u001B[38;5;28;43mself\u001B[39;49m\u001B[38;5;241;43m.\u001B[39;49m\u001B[43mfigure\u001B[49m\u001B[38;5;241;43m.\u001B[39;49m\u001B[43mdraw\u001B[49m\u001B[43m(\u001B[49m\u001B[38;5;28;43mself\u001B[39;49m\u001B[38;5;241;43m.\u001B[39;49m\u001B[43mrenderer\u001B[49m\u001B[43m)\u001B[49m\n\u001B[0;32m    389\u001B[0m     \u001B[38;5;66;03m# A GUI class may be need to update a window using this draw, so\u001B[39;00m\n\u001B[0;32m    390\u001B[0m     \u001B[38;5;66;03m# don't forget to call the superclass.\u001B[39;00m\n\u001B[0;32m    391\u001B[0m     \u001B[38;5;28msuper\u001B[39m()\u001B[38;5;241m.\u001B[39mdraw()\n",
      "File \u001B[1;32m~\\Documents\\FIIT\\zadanie\\venv\\Lib\\site-packages\\matplotlib\\artist.py:95\u001B[0m, in \u001B[0;36m_finalize_rasterization.<locals>.draw_wrapper\u001B[1;34m(artist, renderer, *args, **kwargs)\u001B[0m\n\u001B[0;32m     93\u001B[0m \u001B[38;5;129m@wraps\u001B[39m(draw)\n\u001B[0;32m     94\u001B[0m \u001B[38;5;28;01mdef\u001B[39;00m \u001B[38;5;21mdraw_wrapper\u001B[39m(artist, renderer, \u001B[38;5;241m*\u001B[39margs, \u001B[38;5;241m*\u001B[39m\u001B[38;5;241m*\u001B[39mkwargs):\n\u001B[1;32m---> 95\u001B[0m     result \u001B[38;5;241m=\u001B[39m \u001B[43mdraw\u001B[49m\u001B[43m(\u001B[49m\u001B[43martist\u001B[49m\u001B[43m,\u001B[49m\u001B[43m \u001B[49m\u001B[43mrenderer\u001B[49m\u001B[43m,\u001B[49m\u001B[43m \u001B[49m\u001B[38;5;241;43m*\u001B[39;49m\u001B[43margs\u001B[49m\u001B[43m,\u001B[49m\u001B[43m \u001B[49m\u001B[38;5;241;43m*\u001B[39;49m\u001B[38;5;241;43m*\u001B[39;49m\u001B[43mkwargs\u001B[49m\u001B[43m)\u001B[49m\n\u001B[0;32m     96\u001B[0m     \u001B[38;5;28;01mif\u001B[39;00m renderer\u001B[38;5;241m.\u001B[39m_rasterizing:\n\u001B[0;32m     97\u001B[0m         renderer\u001B[38;5;241m.\u001B[39mstop_rasterizing()\n",
      "File \u001B[1;32m~\\Documents\\FIIT\\zadanie\\venv\\Lib\\site-packages\\matplotlib\\artist.py:72\u001B[0m, in \u001B[0;36mallow_rasterization.<locals>.draw_wrapper\u001B[1;34m(artist, renderer)\u001B[0m\n\u001B[0;32m     69\u001B[0m     \u001B[38;5;28;01mif\u001B[39;00m artist\u001B[38;5;241m.\u001B[39mget_agg_filter() \u001B[38;5;129;01mis\u001B[39;00m \u001B[38;5;129;01mnot\u001B[39;00m \u001B[38;5;28;01mNone\u001B[39;00m:\n\u001B[0;32m     70\u001B[0m         renderer\u001B[38;5;241m.\u001B[39mstart_filter()\n\u001B[1;32m---> 72\u001B[0m     \u001B[38;5;28;01mreturn\u001B[39;00m \u001B[43mdraw\u001B[49m\u001B[43m(\u001B[49m\u001B[43martist\u001B[49m\u001B[43m,\u001B[49m\u001B[43m \u001B[49m\u001B[43mrenderer\u001B[49m\u001B[43m)\u001B[49m\n\u001B[0;32m     73\u001B[0m \u001B[38;5;28;01mfinally\u001B[39;00m:\n\u001B[0;32m     74\u001B[0m     \u001B[38;5;28;01mif\u001B[39;00m artist\u001B[38;5;241m.\u001B[39mget_agg_filter() \u001B[38;5;129;01mis\u001B[39;00m \u001B[38;5;129;01mnot\u001B[39;00m \u001B[38;5;28;01mNone\u001B[39;00m:\n",
      "File \u001B[1;32m~\\Documents\\FIIT\\zadanie\\venv\\Lib\\site-packages\\matplotlib\\figure.py:3154\u001B[0m, in \u001B[0;36mFigure.draw\u001B[1;34m(self, renderer)\u001B[0m\n\u001B[0;32m   3151\u001B[0m         \u001B[38;5;66;03m# ValueError can occur when resizing a window.\u001B[39;00m\n\u001B[0;32m   3153\u001B[0m \u001B[38;5;28mself\u001B[39m\u001B[38;5;241m.\u001B[39mpatch\u001B[38;5;241m.\u001B[39mdraw(renderer)\n\u001B[1;32m-> 3154\u001B[0m \u001B[43mmimage\u001B[49m\u001B[38;5;241;43m.\u001B[39;49m\u001B[43m_draw_list_compositing_images\u001B[49m\u001B[43m(\u001B[49m\n\u001B[0;32m   3155\u001B[0m \u001B[43m    \u001B[49m\u001B[43mrenderer\u001B[49m\u001B[43m,\u001B[49m\u001B[43m \u001B[49m\u001B[38;5;28;43mself\u001B[39;49m\u001B[43m,\u001B[49m\u001B[43m \u001B[49m\u001B[43martists\u001B[49m\u001B[43m,\u001B[49m\u001B[43m \u001B[49m\u001B[38;5;28;43mself\u001B[39;49m\u001B[38;5;241;43m.\u001B[39;49m\u001B[43msuppressComposite\u001B[49m\u001B[43m)\u001B[49m\n\u001B[0;32m   3157\u001B[0m \u001B[38;5;28;01mfor\u001B[39;00m sfig \u001B[38;5;129;01min\u001B[39;00m \u001B[38;5;28mself\u001B[39m\u001B[38;5;241m.\u001B[39msubfigs:\n\u001B[0;32m   3158\u001B[0m     sfig\u001B[38;5;241m.\u001B[39mdraw(renderer)\n",
      "File \u001B[1;32m~\\Documents\\FIIT\\zadanie\\venv\\Lib\\site-packages\\matplotlib\\image.py:132\u001B[0m, in \u001B[0;36m_draw_list_compositing_images\u001B[1;34m(renderer, parent, artists, suppress_composite)\u001B[0m\n\u001B[0;32m    130\u001B[0m \u001B[38;5;28;01mif\u001B[39;00m not_composite \u001B[38;5;129;01mor\u001B[39;00m \u001B[38;5;129;01mnot\u001B[39;00m has_images:\n\u001B[0;32m    131\u001B[0m     \u001B[38;5;28;01mfor\u001B[39;00m a \u001B[38;5;129;01min\u001B[39;00m artists:\n\u001B[1;32m--> 132\u001B[0m         \u001B[43ma\u001B[49m\u001B[38;5;241;43m.\u001B[39;49m\u001B[43mdraw\u001B[49m\u001B[43m(\u001B[49m\u001B[43mrenderer\u001B[49m\u001B[43m)\u001B[49m\n\u001B[0;32m    133\u001B[0m \u001B[38;5;28;01melse\u001B[39;00m:\n\u001B[0;32m    134\u001B[0m     \u001B[38;5;66;03m# Composite any adjacent images together\u001B[39;00m\n\u001B[0;32m    135\u001B[0m     image_group \u001B[38;5;241m=\u001B[39m []\n",
      "File \u001B[1;32m~\\Documents\\FIIT\\zadanie\\venv\\Lib\\site-packages\\matplotlib\\artist.py:72\u001B[0m, in \u001B[0;36mallow_rasterization.<locals>.draw_wrapper\u001B[1;34m(artist, renderer)\u001B[0m\n\u001B[0;32m     69\u001B[0m     \u001B[38;5;28;01mif\u001B[39;00m artist\u001B[38;5;241m.\u001B[39mget_agg_filter() \u001B[38;5;129;01mis\u001B[39;00m \u001B[38;5;129;01mnot\u001B[39;00m \u001B[38;5;28;01mNone\u001B[39;00m:\n\u001B[0;32m     70\u001B[0m         renderer\u001B[38;5;241m.\u001B[39mstart_filter()\n\u001B[1;32m---> 72\u001B[0m     \u001B[38;5;28;01mreturn\u001B[39;00m \u001B[43mdraw\u001B[49m\u001B[43m(\u001B[49m\u001B[43martist\u001B[49m\u001B[43m,\u001B[49m\u001B[43m \u001B[49m\u001B[43mrenderer\u001B[49m\u001B[43m)\u001B[49m\n\u001B[0;32m     73\u001B[0m \u001B[38;5;28;01mfinally\u001B[39;00m:\n\u001B[0;32m     74\u001B[0m     \u001B[38;5;28;01mif\u001B[39;00m artist\u001B[38;5;241m.\u001B[39mget_agg_filter() \u001B[38;5;129;01mis\u001B[39;00m \u001B[38;5;129;01mnot\u001B[39;00m \u001B[38;5;28;01mNone\u001B[39;00m:\n",
      "File \u001B[1;32m~\\Documents\\FIIT\\zadanie\\venv\\Lib\\site-packages\\matplotlib\\axes\\_base.py:3034\u001B[0m, in \u001B[0;36m_AxesBase.draw\u001B[1;34m(self, renderer)\u001B[0m\n\u001B[0;32m   3031\u001B[0m     \u001B[38;5;28;01mfor\u001B[39;00m spine \u001B[38;5;129;01min\u001B[39;00m \u001B[38;5;28mself\u001B[39m\u001B[38;5;241m.\u001B[39mspines\u001B[38;5;241m.\u001B[39mvalues():\n\u001B[0;32m   3032\u001B[0m         artists\u001B[38;5;241m.\u001B[39mremove(spine)\n\u001B[1;32m-> 3034\u001B[0m \u001B[38;5;28;43mself\u001B[39;49m\u001B[38;5;241;43m.\u001B[39;49m\u001B[43m_update_title_position\u001B[49m\u001B[43m(\u001B[49m\u001B[43mrenderer\u001B[49m\u001B[43m)\u001B[49m\n\u001B[0;32m   3036\u001B[0m \u001B[38;5;28;01mif\u001B[39;00m \u001B[38;5;129;01mnot\u001B[39;00m \u001B[38;5;28mself\u001B[39m\u001B[38;5;241m.\u001B[39maxison:\n\u001B[0;32m   3037\u001B[0m     \u001B[38;5;28;01mfor\u001B[39;00m _axis \u001B[38;5;129;01min\u001B[39;00m \u001B[38;5;28mself\u001B[39m\u001B[38;5;241m.\u001B[39m_axis_map\u001B[38;5;241m.\u001B[39mvalues():\n",
      "File \u001B[1;32m~\\Documents\\FIIT\\zadanie\\venv\\Lib\\site-packages\\matplotlib\\axes\\_base.py:2969\u001B[0m, in \u001B[0;36m_AxesBase._update_title_position\u001B[1;34m(self, renderer)\u001B[0m\n\u001B[0;32m   2966\u001B[0m bb \u001B[38;5;241m=\u001B[39m \u001B[38;5;28;01mNone\u001B[39;00m\n\u001B[0;32m   2967\u001B[0m \u001B[38;5;28;01mif\u001B[39;00m (ax\u001B[38;5;241m.\u001B[39mxaxis\u001B[38;5;241m.\u001B[39mget_ticks_position() \u001B[38;5;129;01min\u001B[39;00m [\u001B[38;5;124m'\u001B[39m\u001B[38;5;124mtop\u001B[39m\u001B[38;5;124m'\u001B[39m, \u001B[38;5;124m'\u001B[39m\u001B[38;5;124munknown\u001B[39m\u001B[38;5;124m'\u001B[39m]\n\u001B[0;32m   2968\u001B[0m         \u001B[38;5;129;01mor\u001B[39;00m ax\u001B[38;5;241m.\u001B[39mxaxis\u001B[38;5;241m.\u001B[39mget_label_position() \u001B[38;5;241m==\u001B[39m \u001B[38;5;124m'\u001B[39m\u001B[38;5;124mtop\u001B[39m\u001B[38;5;124m'\u001B[39m):\n\u001B[1;32m-> 2969\u001B[0m     bb \u001B[38;5;241m=\u001B[39m \u001B[43max\u001B[49m\u001B[38;5;241;43m.\u001B[39;49m\u001B[43mxaxis\u001B[49m\u001B[38;5;241;43m.\u001B[39;49m\u001B[43mget_tightbbox\u001B[49m\u001B[43m(\u001B[49m\u001B[43mrenderer\u001B[49m\u001B[43m)\u001B[49m\n\u001B[0;32m   2970\u001B[0m \u001B[38;5;28;01mif\u001B[39;00m bb \u001B[38;5;129;01mis\u001B[39;00m \u001B[38;5;28;01mNone\u001B[39;00m:\n\u001B[0;32m   2971\u001B[0m     \u001B[38;5;28;01mif\u001B[39;00m \u001B[38;5;124m'\u001B[39m\u001B[38;5;124moutline\u001B[39m\u001B[38;5;124m'\u001B[39m \u001B[38;5;129;01min\u001B[39;00m ax\u001B[38;5;241m.\u001B[39mspines:\n\u001B[0;32m   2972\u001B[0m         \u001B[38;5;66;03m# Special case for colorbars:\u001B[39;00m\n",
      "File \u001B[1;32m~\\Documents\\FIIT\\zadanie\\venv\\Lib\\site-packages\\matplotlib\\axis.py:1336\u001B[0m, in \u001B[0;36mAxis.get_tightbbox\u001B[1;34m(self, renderer, for_layout_only)\u001B[0m\n\u001B[0;32m   1333\u001B[0m     renderer \u001B[38;5;241m=\u001B[39m \u001B[38;5;28mself\u001B[39m\u001B[38;5;241m.\u001B[39mfigure\u001B[38;5;241m.\u001B[39m_get_renderer()\n\u001B[0;32m   1334\u001B[0m ticks_to_draw \u001B[38;5;241m=\u001B[39m \u001B[38;5;28mself\u001B[39m\u001B[38;5;241m.\u001B[39m_update_ticks()\n\u001B[1;32m-> 1336\u001B[0m \u001B[38;5;28;43mself\u001B[39;49m\u001B[38;5;241;43m.\u001B[39;49m\u001B[43m_update_label_position\u001B[49m\u001B[43m(\u001B[49m\u001B[43mrenderer\u001B[49m\u001B[43m)\u001B[49m\n\u001B[0;32m   1338\u001B[0m \u001B[38;5;66;03m# go back to just this axis's tick labels\u001B[39;00m\n\u001B[0;32m   1339\u001B[0m tlb1, tlb2 \u001B[38;5;241m=\u001B[39m \u001B[38;5;28mself\u001B[39m\u001B[38;5;241m.\u001B[39m_get_ticklabel_bboxes(ticks_to_draw, renderer)\n",
      "File \u001B[1;32m~\\Documents\\FIIT\\zadanie\\venv\\Lib\\site-packages\\matplotlib\\axis.py:2368\u001B[0m, in \u001B[0;36mXAxis._update_label_position\u001B[1;34m(self, renderer)\u001B[0m\n\u001B[0;32m   2364\u001B[0m     \u001B[38;5;28;01mreturn\u001B[39;00m\n\u001B[0;32m   2366\u001B[0m \u001B[38;5;66;03m# get bounding boxes for this axis and any siblings\u001B[39;00m\n\u001B[0;32m   2367\u001B[0m \u001B[38;5;66;03m# that have been set by `fig.align_xlabels()`\u001B[39;00m\n\u001B[1;32m-> 2368\u001B[0m bboxes, bboxes2 \u001B[38;5;241m=\u001B[39m \u001B[38;5;28;43mself\u001B[39;49m\u001B[38;5;241;43m.\u001B[39;49m\u001B[43m_get_tick_boxes_siblings\u001B[49m\u001B[43m(\u001B[49m\u001B[43mrenderer\u001B[49m\u001B[38;5;241;43m=\u001B[39;49m\u001B[43mrenderer\u001B[49m\u001B[43m)\u001B[49m\n\u001B[0;32m   2370\u001B[0m x, y \u001B[38;5;241m=\u001B[39m \u001B[38;5;28mself\u001B[39m\u001B[38;5;241m.\u001B[39mlabel\u001B[38;5;241m.\u001B[39mget_position()\n\u001B[0;32m   2371\u001B[0m \u001B[38;5;28;01mif\u001B[39;00m \u001B[38;5;28mself\u001B[39m\u001B[38;5;241m.\u001B[39mlabel_position \u001B[38;5;241m==\u001B[39m \u001B[38;5;124m'\u001B[39m\u001B[38;5;124mbottom\u001B[39m\u001B[38;5;124m'\u001B[39m:\n",
      "File \u001B[1;32m~\\Documents\\FIIT\\zadanie\\venv\\Lib\\site-packages\\matplotlib\\axis.py:2161\u001B[0m, in \u001B[0;36mAxis._get_tick_boxes_siblings\u001B[1;34m(self, renderer)\u001B[0m\n\u001B[0;32m   2159\u001B[0m axis \u001B[38;5;241m=\u001B[39m ax\u001B[38;5;241m.\u001B[39m_axis_map[name]\n\u001B[0;32m   2160\u001B[0m ticks_to_draw \u001B[38;5;241m=\u001B[39m axis\u001B[38;5;241m.\u001B[39m_update_ticks()\n\u001B[1;32m-> 2161\u001B[0m tlb, tlb2 \u001B[38;5;241m=\u001B[39m \u001B[43maxis\u001B[49m\u001B[38;5;241;43m.\u001B[39;49m\u001B[43m_get_ticklabel_bboxes\u001B[49m\u001B[43m(\u001B[49m\u001B[43mticks_to_draw\u001B[49m\u001B[43m,\u001B[49m\u001B[43m \u001B[49m\u001B[43mrenderer\u001B[49m\u001B[43m)\u001B[49m\n\u001B[0;32m   2162\u001B[0m bboxes\u001B[38;5;241m.\u001B[39mextend(tlb)\n\u001B[0;32m   2163\u001B[0m bboxes2\u001B[38;5;241m.\u001B[39mextend(tlb2)\n",
      "File \u001B[1;32m~\\Documents\\FIIT\\zadanie\\venv\\Lib\\site-packages\\matplotlib\\axis.py:1315\u001B[0m, in \u001B[0;36mAxis._get_ticklabel_bboxes\u001B[1;34m(self, ticks, renderer)\u001B[0m\n\u001B[0;32m   1313\u001B[0m \u001B[38;5;28;01mif\u001B[39;00m renderer \u001B[38;5;129;01mis\u001B[39;00m \u001B[38;5;28;01mNone\u001B[39;00m:\n\u001B[0;32m   1314\u001B[0m     renderer \u001B[38;5;241m=\u001B[39m \u001B[38;5;28mself\u001B[39m\u001B[38;5;241m.\u001B[39mfigure\u001B[38;5;241m.\u001B[39m_get_renderer()\n\u001B[1;32m-> 1315\u001B[0m \u001B[38;5;28;01mreturn\u001B[39;00m (\u001B[43m[\u001B[49m\u001B[43mtick\u001B[49m\u001B[38;5;241;43m.\u001B[39;49m\u001B[43mlabel1\u001B[49m\u001B[38;5;241;43m.\u001B[39;49m\u001B[43mget_window_extent\u001B[49m\u001B[43m(\u001B[49m\u001B[43mrenderer\u001B[49m\u001B[43m)\u001B[49m\n\u001B[0;32m   1316\u001B[0m \u001B[43m         \u001B[49m\u001B[38;5;28;43;01mfor\u001B[39;49;00m\u001B[43m \u001B[49m\u001B[43mtick\u001B[49m\u001B[43m \u001B[49m\u001B[38;5;129;43;01min\u001B[39;49;00m\u001B[43m \u001B[49m\u001B[43mticks\u001B[49m\u001B[43m \u001B[49m\u001B[38;5;28;43;01mif\u001B[39;49;00m\u001B[43m \u001B[49m\u001B[43mtick\u001B[49m\u001B[38;5;241;43m.\u001B[39;49m\u001B[43mlabel1\u001B[49m\u001B[38;5;241;43m.\u001B[39;49m\u001B[43mget_visible\u001B[49m\u001B[43m(\u001B[49m\u001B[43m)\u001B[49m\u001B[43m]\u001B[49m,\n\u001B[0;32m   1317\u001B[0m         [tick\u001B[38;5;241m.\u001B[39mlabel2\u001B[38;5;241m.\u001B[39mget_window_extent(renderer)\n\u001B[0;32m   1318\u001B[0m          \u001B[38;5;28;01mfor\u001B[39;00m tick \u001B[38;5;129;01min\u001B[39;00m ticks \u001B[38;5;28;01mif\u001B[39;00m tick\u001B[38;5;241m.\u001B[39mlabel2\u001B[38;5;241m.\u001B[39mget_visible()])\n",
      "File \u001B[1;32m~\\Documents\\FIIT\\zadanie\\venv\\Lib\\site-packages\\matplotlib\\axis.py:1315\u001B[0m, in \u001B[0;36m<listcomp>\u001B[1;34m(.0)\u001B[0m\n\u001B[0;32m   1313\u001B[0m \u001B[38;5;28;01mif\u001B[39;00m renderer \u001B[38;5;129;01mis\u001B[39;00m \u001B[38;5;28;01mNone\u001B[39;00m:\n\u001B[0;32m   1314\u001B[0m     renderer \u001B[38;5;241m=\u001B[39m \u001B[38;5;28mself\u001B[39m\u001B[38;5;241m.\u001B[39mfigure\u001B[38;5;241m.\u001B[39m_get_renderer()\n\u001B[1;32m-> 1315\u001B[0m \u001B[38;5;28;01mreturn\u001B[39;00m ([\u001B[43mtick\u001B[49m\u001B[38;5;241;43m.\u001B[39;49m\u001B[43mlabel1\u001B[49m\u001B[38;5;241;43m.\u001B[39;49m\u001B[43mget_window_extent\u001B[49m\u001B[43m(\u001B[49m\u001B[43mrenderer\u001B[49m\u001B[43m)\u001B[49m\n\u001B[0;32m   1316\u001B[0m          \u001B[38;5;28;01mfor\u001B[39;00m tick \u001B[38;5;129;01min\u001B[39;00m ticks \u001B[38;5;28;01mif\u001B[39;00m tick\u001B[38;5;241m.\u001B[39mlabel1\u001B[38;5;241m.\u001B[39mget_visible()],\n\u001B[0;32m   1317\u001B[0m         [tick\u001B[38;5;241m.\u001B[39mlabel2\u001B[38;5;241m.\u001B[39mget_window_extent(renderer)\n\u001B[0;32m   1318\u001B[0m          \u001B[38;5;28;01mfor\u001B[39;00m tick \u001B[38;5;129;01min\u001B[39;00m ticks \u001B[38;5;28;01mif\u001B[39;00m tick\u001B[38;5;241m.\u001B[39mlabel2\u001B[38;5;241m.\u001B[39mget_visible()])\n",
      "File \u001B[1;32m~\\Documents\\FIIT\\zadanie\\venv\\Lib\\site-packages\\matplotlib\\text.py:958\u001B[0m, in \u001B[0;36mText.get_window_extent\u001B[1;34m(self, renderer, dpi)\u001B[0m\n\u001B[0;32m    956\u001B[0m bbox, info, descent \u001B[38;5;241m=\u001B[39m \u001B[38;5;28mself\u001B[39m\u001B[38;5;241m.\u001B[39m_get_layout(\u001B[38;5;28mself\u001B[39m\u001B[38;5;241m.\u001B[39m_renderer)\n\u001B[0;32m    957\u001B[0m x, y \u001B[38;5;241m=\u001B[39m \u001B[38;5;28mself\u001B[39m\u001B[38;5;241m.\u001B[39mget_unitless_position()\n\u001B[1;32m--> 958\u001B[0m x, y \u001B[38;5;241m=\u001B[39m \u001B[38;5;28;43mself\u001B[39;49m\u001B[38;5;241;43m.\u001B[39;49m\u001B[43mget_transform\u001B[49m\u001B[43m(\u001B[49m\u001B[43m)\u001B[49m\u001B[38;5;241;43m.\u001B[39;49m\u001B[43mtransform\u001B[49m\u001B[43m(\u001B[49m\u001B[43m(\u001B[49m\u001B[43mx\u001B[49m\u001B[43m,\u001B[49m\u001B[43m \u001B[49m\u001B[43my\u001B[49m\u001B[43m)\u001B[49m\u001B[43m)\u001B[49m\n\u001B[0;32m    959\u001B[0m bbox \u001B[38;5;241m=\u001B[39m bbox\u001B[38;5;241m.\u001B[39mtranslated(x, y)\n\u001B[0;32m    960\u001B[0m \u001B[38;5;28;01mreturn\u001B[39;00m bbox\n",
      "File \u001B[1;32m~\\Documents\\FIIT\\zadanie\\venv\\Lib\\site-packages\\matplotlib\\transforms.py:1495\u001B[0m, in \u001B[0;36mTransform.transform\u001B[1;34m(self, values)\u001B[0m\n\u001B[0;32m   1492\u001B[0m values \u001B[38;5;241m=\u001B[39m values\u001B[38;5;241m.\u001B[39mreshape((\u001B[38;5;241m-\u001B[39m\u001B[38;5;241m1\u001B[39m, \u001B[38;5;28mself\u001B[39m\u001B[38;5;241m.\u001B[39minput_dims))\n\u001B[0;32m   1494\u001B[0m \u001B[38;5;66;03m# Transform the values\u001B[39;00m\n\u001B[1;32m-> 1495\u001B[0m res \u001B[38;5;241m=\u001B[39m \u001B[38;5;28;43mself\u001B[39;49m\u001B[38;5;241;43m.\u001B[39;49m\u001B[43mtransform_affine\u001B[49m\u001B[43m(\u001B[49m\u001B[38;5;28;43mself\u001B[39;49m\u001B[38;5;241;43m.\u001B[39;49m\u001B[43mtransform_non_affine\u001B[49m\u001B[43m(\u001B[49m\u001B[43mvalues\u001B[49m\u001B[43m)\u001B[49m\u001B[43m)\u001B[49m\n\u001B[0;32m   1497\u001B[0m \u001B[38;5;66;03m# Convert the result back to the shape of the input values.\u001B[39;00m\n\u001B[0;32m   1498\u001B[0m \u001B[38;5;28;01mif\u001B[39;00m ndim \u001B[38;5;241m==\u001B[39m \u001B[38;5;241m0\u001B[39m:\n",
      "File \u001B[1;32m~\\Documents\\FIIT\\zadanie\\venv\\Lib\\site-packages\\matplotlib\\_api\\deprecation.py:297\u001B[0m, in \u001B[0;36mrename_parameter.<locals>.wrapper\u001B[1;34m(*args, **kwargs)\u001B[0m\n\u001B[0;32m    292\u001B[0m     warn_deprecated(\n\u001B[0;32m    293\u001B[0m         since, message\u001B[38;5;241m=\u001B[39m\u001B[38;5;124mf\u001B[39m\u001B[38;5;124m\"\u001B[39m\u001B[38;5;124mThe \u001B[39m\u001B[38;5;132;01m{\u001B[39;00mold\u001B[38;5;132;01m!r}\u001B[39;00m\u001B[38;5;124m parameter of \u001B[39m\u001B[38;5;132;01m{\u001B[39;00mfunc\u001B[38;5;241m.\u001B[39m\u001B[38;5;18m__name__\u001B[39m\u001B[38;5;132;01m}\u001B[39;00m\u001B[38;5;124m() \u001B[39m\u001B[38;5;124m\"\u001B[39m\n\u001B[0;32m    294\u001B[0m         \u001B[38;5;124mf\u001B[39m\u001B[38;5;124m\"\u001B[39m\u001B[38;5;124mhas been renamed \u001B[39m\u001B[38;5;132;01m{\u001B[39;00mnew\u001B[38;5;132;01m!r}\u001B[39;00m\u001B[38;5;124m since Matplotlib \u001B[39m\u001B[38;5;132;01m{\u001B[39;00msince\u001B[38;5;132;01m}\u001B[39;00m\u001B[38;5;124m; support \u001B[39m\u001B[38;5;124m\"\u001B[39m\n\u001B[0;32m    295\u001B[0m         \u001B[38;5;124mf\u001B[39m\u001B[38;5;124m\"\u001B[39m\u001B[38;5;124mfor the old name will be dropped %(removal)s.\u001B[39m\u001B[38;5;124m\"\u001B[39m)\n\u001B[0;32m    296\u001B[0m     kwargs[new] \u001B[38;5;241m=\u001B[39m kwargs\u001B[38;5;241m.\u001B[39mpop(old)\n\u001B[1;32m--> 297\u001B[0m \u001B[38;5;28;01mreturn\u001B[39;00m \u001B[43mfunc\u001B[49m\u001B[43m(\u001B[49m\u001B[38;5;241;43m*\u001B[39;49m\u001B[43margs\u001B[49m\u001B[43m,\u001B[49m\u001B[43m \u001B[49m\u001B[38;5;241;43m*\u001B[39;49m\u001B[38;5;241;43m*\u001B[39;49m\u001B[43mkwargs\u001B[49m\u001B[43m)\u001B[49m\n",
      "File \u001B[1;32m~\\Documents\\FIIT\\zadanie\\venv\\Lib\\site-packages\\matplotlib\\transforms.py:2409\u001B[0m, in \u001B[0;36mCompositeGenericTransform.transform_affine\u001B[1;34m(self, values)\u001B[0m\n\u001B[0;32m   2406\u001B[0m \u001B[38;5;129m@_api\u001B[39m\u001B[38;5;241m.\u001B[39mrename_parameter(\u001B[38;5;124m\"\u001B[39m\u001B[38;5;124m3.8\u001B[39m\u001B[38;5;124m\"\u001B[39m, \u001B[38;5;124m\"\u001B[39m\u001B[38;5;124mpoints\u001B[39m\u001B[38;5;124m\"\u001B[39m, \u001B[38;5;124m\"\u001B[39m\u001B[38;5;124mvalues\u001B[39m\u001B[38;5;124m\"\u001B[39m)\n\u001B[0;32m   2407\u001B[0m \u001B[38;5;28;01mdef\u001B[39;00m \u001B[38;5;21mtransform_affine\u001B[39m(\u001B[38;5;28mself\u001B[39m, values):\n\u001B[0;32m   2408\u001B[0m     \u001B[38;5;66;03m# docstring inherited\u001B[39;00m\n\u001B[1;32m-> 2409\u001B[0m     \u001B[38;5;28;01mreturn\u001B[39;00m \u001B[38;5;28;43mself\u001B[39;49m\u001B[38;5;241;43m.\u001B[39;49m\u001B[43mget_affine\u001B[49m\u001B[43m(\u001B[49m\u001B[43m)\u001B[49m\u001B[38;5;241m.\u001B[39mtransform(values)\n",
      "File \u001B[1;32m~\\Documents\\FIIT\\zadanie\\venv\\Lib\\site-packages\\matplotlib\\transforms.py:2436\u001B[0m, in \u001B[0;36mCompositeGenericTransform.get_affine\u001B[1;34m(self)\u001B[0m\n\u001B[0;32m   2434\u001B[0m     \u001B[38;5;28;01mreturn\u001B[39;00m \u001B[38;5;28mself\u001B[39m\u001B[38;5;241m.\u001B[39m_b\u001B[38;5;241m.\u001B[39mget_affine()\n\u001B[0;32m   2435\u001B[0m \u001B[38;5;28;01melse\u001B[39;00m:\n\u001B[1;32m-> 2436\u001B[0m     \u001B[38;5;28;01mreturn\u001B[39;00m Affine2D(\u001B[43mnp\u001B[49m\u001B[38;5;241;43m.\u001B[39;49m\u001B[43mdot\u001B[49m\u001B[43m(\u001B[49m\u001B[38;5;28;43mself\u001B[39;49m\u001B[38;5;241;43m.\u001B[39;49m\u001B[43m_b\u001B[49m\u001B[38;5;241;43m.\u001B[39;49m\u001B[43mget_affine\u001B[49m\u001B[43m(\u001B[49m\u001B[43m)\u001B[49m\u001B[38;5;241;43m.\u001B[39;49m\u001B[43mget_matrix\u001B[49m\u001B[43m(\u001B[49m\u001B[43m)\u001B[49m\u001B[43m,\u001B[49m\n\u001B[0;32m   2437\u001B[0m \u001B[43m                           \u001B[49m\u001B[38;5;28;43mself\u001B[39;49m\u001B[38;5;241;43m.\u001B[39;49m\u001B[43m_a\u001B[49m\u001B[38;5;241;43m.\u001B[39;49m\u001B[43mget_affine\u001B[49m\u001B[43m(\u001B[49m\u001B[43m)\u001B[49m\u001B[38;5;241;43m.\u001B[39;49m\u001B[43mget_matrix\u001B[49m\u001B[43m(\u001B[49m\u001B[43m)\u001B[49m\u001B[43m)\u001B[49m)\n",
      "\u001B[1;31mKeyboardInterrupt\u001B[0m: "
     ]
    },
    {
     "data": {
      "text/plain": "<Figure size 5750x5750 with 14 Axes>",
      "image/png": "[encoded data removed]"
     },
     "metadata": {},
     "output_type": "display_data"
    }
   ],
   "source": [
    "sns.pairplot(sessionData.dropna(), hue=\"ack\")"
   ],
   "metadata": {
    "collapsed": false
   }
  },
  {
   "cell_type": "code",
   "execution_count": null,
   "outputs": [],
   "source": [
    "for column in sessionData.columns:\n",
    "    print(f\"{column}\\t{sessionData['ack'].corr(sessionData[column])}\")"
   ],
   "metadata": {
    "collapsed": false
   }
  },
  {
   "cell_type": "markdown",
   "source": [
    "## Basic descriptive statistics and Shapiro-Wilk test for Normal(Gaussian) Distribution"
   ],
   "metadata": {
    "collapsed": false
   }
  },
  {
   "cell_type": "code",
   "execution_count": 91,
   "outputs": [
    {
     "name": "stdout",
     "output_type": "stream",
     "text": [
      "pct_click_product_info\n",
      "1.0 > 0.05\t-> data is Normally distributed\n",
      "user_id\n",
      "0.0 < 0.05\t-> data is not Normally distributed\n",
      "screen_height\n",
      "0.0 < 0.05\t-> data is not Normally distributed\n",
      "pct_scroll_move_duration\n",
      "1.0 > 0.05\t-> data is Normally distributed\n",
      "scroll_move_total_rel_distance\n",
      "1.0 > 0.05\t-> data is Normally distributed\n",
      "pct_click\n",
      "1.0 > 0.05\t-> data is Normally distributed\n",
      "pct_scrandom\n",
      "1.0 > 0.05\t-> data is Normally distributed\n",
      "pct_wild_mouse\n",
      "1.0 > 0.05\t-> data is Normally distributed\n",
      "session_id\n",
      "0.0 < 0.05\t-> data is not Normally distributed\n",
      "browser_name\n",
      "0.0 < 0.05\t-> data is not Normally distributed\n",
      "pct_input\n",
      "1.0 > 0.05\t-> data is Normally distributed\n",
      "screen_width\n",
      "0.0 < 0.05\t-> data is not Normally distributed\n",
      "mouse_move_total_rel_distance\n",
      "1.0 > 0.05\t-> data is Normally distributed\n",
      "pct_mouse_click\n",
      "1.0 > 0.05\t-> data is Normally distributed\n",
      "wild_mouse_duration\n",
      "1.0 > 0.05\t-> data is Normally distributed\n",
      "pct_mouse_move\n",
      "1.0 > 0.05\t-> data is Normally distributed\n",
      "pct_doubleclick\n",
      "1.0 > 0.05\t-> data is Normally distributed\n",
      "pct_rage_click\n",
      "1.0 > 0.05\t-> data is Normally distributed\n",
      "ack\n",
      "0.0 < 0.05\t-> data is not Normally distributed\n",
      "page_activity_duration\n",
      "1.0 > 0.05\t-> data is Normally distributed\n",
      "total_load_time\n",
      "0.0 < 0.05\t-> data is not Normally distributed\n",
      "pct_scroll_move\n",
      "1.0 > 0.05\t-> data is Normally distributed\n",
      "product_ean\n",
      "0.0 < 0.05\t-> data is not Normally distributed\n",
      "session_duration\n",
      "0.8415801525115967 > 0.05\t-> data is Normally distributed\n"
     ]
    },
    {
     "name": "stderr",
     "output_type": "stream",
     "text": [
      "C:\\Users\\pc-Gábor\\Documents\\FIIT\\zadanie\\venv\\Lib\\site-packages\\scipy\\stats\\_morestats.py:1882: UserWarning: p-value may not be accurate for N > 5000.\n",
      "  warnings.warn(\"p-value may not be accurate for N > 5000.\")\n"
     ]
    },
    {
     "data": {
      "text/plain": "       pct_click_product_info       user_id  screen_height  \\\ncount            11096.000000  11107.000000   11107.000000   \nmean                50.483726   1235.776987     850.408571   \nstd                 13.597192    718.395295     187.099648   \nmin                  0.000000      0.000000     600.000000   \n25%                 41.282710    618.500000     768.000000   \n50%                 50.521630   1229.000000     800.000000   \n75%                 59.644505   1852.500000    1080.000000   \nmax                100.000000   2499.000000    1080.000000   \n\n       pct_scroll_move_duration  scroll_move_total_rel_distance     pct_click  \\\ncount              11096.000000                    11096.000000  11096.000000   \nmean                  15.238943                       13.721452     12.608135   \nstd                    1.347392                        2.079130      2.102357   \nmin                    9.657490                        6.669420      4.673820   \n25%                   14.394348                       12.064132     11.098513   \n50%                   15.245490                       14.276540     12.408140   \n75%                   16.050898                       15.370390     14.039747   \nmax                   21.056660                       18.692900     20.471820   \n\n       pct_scrandom  pct_wild_mouse    session_id  browser_name  ...  \\\ncount  11095.000000    11096.000000  1.110700e+04  11107.000000  ...   \nmean      48.899014       47.723073  7.438971e+05      2.127397  ...   \nstd       12.075291       13.428862  4.312776e+05      1.549087  ...   \nmin        0.000000        0.000000  1.078000e+03      0.000000  ...   \n25%       40.805340       38.700060  3.731425e+05      1.000000  ...   \n50%       48.843420       47.803490  7.403180e+05      2.000000  ...   \n75%       56.930055       56.736027  1.112932e+06      3.000000  ...   \nmax      100.000000      100.000000  1.499938e+06      6.000000  ...   \n\n       pct_mouse_click  wild_mouse_duration  pct_mouse_move  pct_doubleclick  \\\ncount     11096.000000         11096.000000    11096.000000     11095.000000   \nmean         13.540213            13.579313       13.534801        14.305038   \nstd           1.000808             3.075740        0.996544         1.932924   \nmin           9.792600             0.000000        9.338530         6.271650   \n25%          12.861463            11.829973       12.863210        13.273515   \n50%          13.542870            13.458065       13.548215        14.773630   \n75%          14.227190            15.819170       14.206577        15.645795   \nmax          17.351800            22.915790       17.529780        19.716730   \n\n       pct_rage_click  page_activity_duration  total_load_time  \\\ncount    11096.000000            11096.000000     11107.000000   \nmean        54.489670               14.484636         4.031605   \nstd         12.502856                1.940651         2.844088   \nmin          0.000000                7.377110         0.008030   \n25%         45.995368               13.237047         1.940785   \n50%         54.543245               14.776720         3.392530   \n75%         62.914325               15.860910         5.445625   \nmax        100.000000               22.295860        27.211750   \n\n       pct_scroll_move   product_ean  session_duration  \ncount     11096.000000  1.110700e+04      11107.000000  \nmean         44.107675  5.005687e+12        150.162508  \nstd          13.191977  2.887922e+12         59.364602  \nmin           0.000000  1.119810e+09        -63.972190  \n25%          35.135140  2.481610e+12        109.926290  \n50%          44.067915  4.991186e+12        149.602510  \n75%          52.951955  7.526300e+12        190.384065  \nmax         100.000000  9.999900e+12        372.845880  \n\n[8 rows x 23 columns]",
      "text/html": "<div>\n<style scoped>\n    .dataframe tbody tr th:only-of-type {\n        vertical-align: middle;\n    }\n\n    .dataframe tbody tr th {\n        vertical-align: top;\n    }\n\n    .dataframe thead th {\n        text-align: right;\n    }\n</style>\n<table border=\"1\" class=\"dataframe\">\n  <thead>\n    <tr style=\"text-align: right;\">\n      <th></th>\n      <th>pct_click_product_info</th>\n      <th>user_id</th>\n      <th>screen_height</th>\n      <th>pct_scroll_move_duration</th>\n      <th>scroll_move_total_rel_distance</th>\n      <th>pct_click</th>\n      <th>pct_scrandom</th>\n      <th>pct_wild_mouse</th>\n      <th>session_id</th>\n      <th>browser_name</th>\n      <th>...</th>\n      <th>pct_mouse_click</th>\n      <th>wild_mouse_duration</th>\n      <th>pct_mouse_move</th>\n      <th>pct_doubleclick</th>\n      <th>pct_rage_click</th>\n      <th>page_activity_duration</th>\n      <th>total_load_time</th>\n      <th>pct_scroll_move</th>\n      <th>product_ean</th>\n      <th>session_duration</th>\n    </tr>\n  </thead>\n  <tbody>\n    <tr>\n      <th>count</th>\n      <td>11096.000000</td>\n      <td>11107.000000</td>\n      <td>11107.000000</td>\n      <td>11096.000000</td>\n      <td>11096.000000</td>\n      <td>11096.000000</td>\n      <td>11095.000000</td>\n      <td>11096.000000</td>\n      <td>1.110700e+04</td>\n      <td>11107.000000</td>\n      <td>...</td>\n      <td>11096.000000</td>\n      <td>11096.000000</td>\n      <td>11096.000000</td>\n      <td>11095.000000</td>\n      <td>11096.000000</td>\n      <td>11096.000000</td>\n      <td>11107.000000</td>\n      <td>11096.000000</td>\n      <td>1.110700e+04</td>\n      <td>11107.000000</td>\n    </tr>\n    <tr>\n      <th>mean</th>\n      <td>50.483726</td>\n      <td>1235.776987</td>\n      <td>850.408571</td>\n      <td>15.238943</td>\n      <td>13.721452</td>\n      <td>12.608135</td>\n      <td>48.899014</td>\n      <td>47.723073</td>\n      <td>7.438971e+05</td>\n      <td>2.127397</td>\n      <td>...</td>\n      <td>13.540213</td>\n      <td>13.579313</td>\n      <td>13.534801</td>\n      <td>14.305038</td>\n      <td>54.489670</td>\n      <td>14.484636</td>\n      <td>4.031605</td>\n      <td>44.107675</td>\n      <td>5.005687e+12</td>\n      <td>150.162508</td>\n    </tr>\n    <tr>\n      <th>std</th>\n      <td>13.597192</td>\n      <td>718.395295</td>\n      <td>187.099648</td>\n      <td>1.347392</td>\n      <td>2.079130</td>\n      <td>2.102357</td>\n      <td>12.075291</td>\n      <td>13.428862</td>\n      <td>4.312776e+05</td>\n      <td>1.549087</td>\n      <td>...</td>\n      <td>1.000808</td>\n      <td>3.075740</td>\n      <td>0.996544</td>\n      <td>1.932924</td>\n      <td>12.502856</td>\n      <td>1.940651</td>\n      <td>2.844088</td>\n      <td>13.191977</td>\n      <td>2.887922e+12</td>\n      <td>59.364602</td>\n    </tr>\n    <tr>\n      <th>min</th>\n      <td>0.000000</td>\n      <td>0.000000</td>\n      <td>600.000000</td>\n      <td>9.657490</td>\n      <td>6.669420</td>\n      <td>4.673820</td>\n      <td>0.000000</td>\n      <td>0.000000</td>\n      <td>1.078000e+03</td>\n      <td>0.000000</td>\n      <td>...</td>\n      <td>9.792600</td>\n      <td>0.000000</td>\n      <td>9.338530</td>\n      <td>6.271650</td>\n      <td>0.000000</td>\n      <td>7.377110</td>\n      <td>0.008030</td>\n      <td>0.000000</td>\n      <td>1.119810e+09</td>\n      <td>-63.972190</td>\n    </tr>\n    <tr>\n      <th>25%</th>\n      <td>41.282710</td>\n      <td>618.500000</td>\n      <td>768.000000</td>\n      <td>14.394348</td>\n      <td>12.064132</td>\n      <td>11.098513</td>\n      <td>40.805340</td>\n      <td>38.700060</td>\n      <td>3.731425e+05</td>\n      <td>1.000000</td>\n      <td>...</td>\n      <td>12.861463</td>\n      <td>11.829973</td>\n      <td>12.863210</td>\n      <td>13.273515</td>\n      <td>45.995368</td>\n      <td>13.237047</td>\n      <td>1.940785</td>\n      <td>35.135140</td>\n      <td>2.481610e+12</td>\n      <td>109.926290</td>\n    </tr>\n    <tr>\n      <th>50%</th>\n      <td>50.521630</td>\n      <td>1229.000000</td>\n      <td>800.000000</td>\n      <td>15.245490</td>\n      <td>14.276540</td>\n      <td>12.408140</td>\n      <td>48.843420</td>\n      <td>47.803490</td>\n      <td>7.403180e+05</td>\n      <td>2.000000</td>\n      <td>...</td>\n      <td>13.542870</td>\n      <td>13.458065</td>\n      <td>13.548215</td>\n      <td>14.773630</td>\n      <td>54.543245</td>\n      <td>14.776720</td>\n      <td>3.392530</td>\n      <td>44.067915</td>\n      <td>4.991186e+12</td>\n      <td>149.602510</td>\n    </tr>\n    <tr>\n      <th>75%</th>\n      <td>59.644505</td>\n      <td>1852.500000</td>\n      <td>1080.000000</td>\n      <td>16.050898</td>\n      <td>15.370390</td>\n      <td>14.039747</td>\n      <td>56.930055</td>\n      <td>56.736027</td>\n      <td>1.112932e+06</td>\n      <td>3.000000</td>\n      <td>...</td>\n      <td>14.227190</td>\n      <td>15.819170</td>\n      <td>14.206577</td>\n      <td>15.645795</td>\n      <td>62.914325</td>\n      <td>15.860910</td>\n      <td>5.445625</td>\n      <td>52.951955</td>\n      <td>7.526300e+12</td>\n      <td>190.384065</td>\n    </tr>\n    <tr>\n      <th>max</th>\n      <td>100.000000</td>\n      <td>2499.000000</td>\n      <td>1080.000000</td>\n      <td>21.056660</td>\n      <td>18.692900</td>\n      <td>20.471820</td>\n      <td>100.000000</td>\n      <td>100.000000</td>\n      <td>1.499938e+06</td>\n      <td>6.000000</td>\n      <td>...</td>\n      <td>17.351800</td>\n      <td>22.915790</td>\n      <td>17.529780</td>\n      <td>19.716730</td>\n      <td>100.000000</td>\n      <td>22.295860</td>\n      <td>27.211750</td>\n      <td>100.000000</td>\n      <td>9.999900e+12</td>\n      <td>372.845880</td>\n    </tr>\n  </tbody>\n</table>\n<p>8 rows × 23 columns</p>\n</div>"
     },
     "execution_count": 91,
     "metadata": {},
     "output_type": "execute_result"
    }
   ],
   "source": [
    "def normalityTest(shapiro):\n",
    "    if shapiro.pvalue > 0.05:\n",
    "        print(f\"{shapiro.pvalue} > 0.05\\t-> data is Normally distributed\")\n",
    "    else:\n",
    "        print(f\"{shapiro.pvalue} < 0.05\\t-> data is not Normally distributed\")\n",
    "\n",
    "for column in sessionData.columns:\n",
    "    if column != \"session_start\":\n",
    "        print(column)\n",
    "        normalityTest(scipy.stats.shapiro(sessionDataByDate[column]))\n",
    "\n",
    "sessionDataByDate.describe()"
   ],
   "metadata": {
    "collapsed": false
   }
  },
  {
   "cell_type": "code",
   "execution_count": 134,
   "outputs": [
    {
     "data": {
      "text/plain": "<Axes: xlabel='scroll_move_total_rel_distance', ylabel='ack'>"
     },
     "execution_count": 134,
     "metadata": {},
     "output_type": "execute_result"
    },
    {
     "data": {
      "text/plain": "<Figure size 640x480 with 1 Axes>",
      "image/png": "[encoded data removed]"
     },
     "metadata": {},
     "output_type": "display_data"
    }
   ],
   "source": [
    "# sns.regplot(data=sessionDataByDate.dropna(), x=\"pct_scroll_move_duration\",y=\"wild_mouse_duration\") #-0.28\n",
    "# sns.regplot(data=sessionDataByDate.dropna(), x=\"pct_scroll_move_duration\",y=\"mouse_move_total_rel_distance\") #0.22\n",
    "sns.regplot(data=sessionDataByDate.dropna(), x=\"scroll_move_total_rel_distance\",y=\"ack\") #0.74\n",
    "# sns.regplot(data=sessionDataByDate.dropna(), x=\"wild_mouse_duration\",y=\"pct_click\") #-0.6\n",
    "# sns.regplot(data=sessionDataByDate.dropna(), x=\"wild_mouse_duration\",y=\"pct_input\") #0.28\n",
    "# sns.regplot(data=sessionDataByDate.dropna(), x=\"mouse_move_total_rel_distance\",y=\"pct_click\") #-0.29\n",
    "# sns.regplot(data=sessionDataByDate.dropna(), x=\"pct_doubleclick\",y=\"wild_mouse_duration\") #0.41"
   ],
   "metadata": {
    "collapsed": false
   }
  },
  {
   "cell_type": "code",
   "execution_count": 99,
   "outputs": [
    {
     "data": {
      "text/plain": "                                pct_click_product_info   user_id  \\\npct_click_product_info                        1.000000  0.000326   \nuser_id                                       0.000326  1.000000   \nscreen_height                                 0.007523 -0.014482   \npct_scroll_move_duration                      0.004251 -0.007840   \nscroll_move_total_rel_distance                0.003077  0.000148   \npct_click                                    -0.004542  0.013858   \npct_scrandom                                  0.003696 -0.004869   \npct_wild_mouse                                0.004052  0.007491   \nsession_id                                   -0.006344 -0.006726   \nbrowser_name                                 -0.005408 -0.012310   \npct_input                                    -0.015007  0.003394   \nscreen_width                                 -0.014717  0.005078   \nmouse_move_total_rel_distance                 0.013939 -0.000285   \npct_mouse_click                              -0.008457  0.010342   \nwild_mouse_duration                          -0.014891  0.002476   \npct_mouse_move                                0.012935  0.006799   \npct_doubleclick                              -0.008905  0.006065   \npct_rage_click                                0.009318  0.005616   \nack                                           0.016203 -0.015086   \npage_activity_duration                        0.022844 -0.006646   \ntotal_load_time                               0.015809  0.004424   \npct_scroll_move                              -0.005129 -0.009054   \nproduct_ean                                  -0.005883 -0.003065   \nsession_duration                              0.007635 -0.008193   \n\n                                screen_height  pct_scroll_move_duration  \\\npct_click_product_info               0.007523                  0.004251   \nuser_id                             -0.014482                 -0.007840   \nscreen_height                        1.000000                 -0.011312   \npct_scroll_move_duration            -0.011312                  1.000000   \nscroll_move_total_rel_distance       0.019207                 -0.145849   \npct_click                           -0.020951                  0.073057   \npct_scrandom                        -0.001251                  0.009491   \npct_wild_mouse                       0.001167                  0.006220   \nsession_id                          -0.008654                  0.005457   \nbrowser_name                         0.001948                  0.016577   \npct_input                            0.003800                 -0.151716   \nscreen_width                         0.019475                  0.019933   \nmouse_move_total_rel_distance        0.011769                  0.229056   \npct_mouse_click                      0.012241                  0.004713   \nwild_mouse_duration                  0.010601                 -0.288118   \npct_mouse_move                       0.023018                  0.009151   \npct_doubleclick                     -0.022171                 -0.064477   \npct_rage_click                      -0.003689                  0.004501   \nack                                  0.018981                 -0.002601   \npage_activity_duration               0.001101                 -0.072752   \ntotal_load_time                      0.019119                 -0.005312   \npct_scroll_move                     -0.010867                  0.003906   \nproduct_ean                         -0.002161                  0.007914   \nsession_duration                     0.000028                 -0.010987   \n\n                                scroll_move_total_rel_distance  pct_click  \\\npct_click_product_info                                0.003077  -0.004542   \nuser_id                                               0.000148   0.013858   \nscreen_height                                         0.019207  -0.020951   \npct_scroll_move_duration                             -0.145849   0.073057   \nscroll_move_total_rel_distance                        1.000000  -0.186315   \npct_click                                            -0.186315   1.000000   \npct_scrandom                                         -0.001068   0.007205   \npct_wild_mouse                                        0.004258  -0.001896   \nsession_id                                            0.005911  -0.006639   \nbrowser_name                                         -0.017672   0.002185   \npct_input                                             0.055554  -0.166344   \nscreen_width                                          0.007094   0.000699   \nmouse_move_total_rel_distance                        -0.066497  -0.296849   \npct_mouse_click                                      -0.001692   0.005848   \nwild_mouse_duration                                   0.276726  -0.600952   \npct_mouse_move                                        0.009507  -0.027780   \npct_doubleclick                                      -0.375990   0.060911   \npct_rage_click                                       -0.006839  -0.003464   \nack                                                   0.748836  -0.365507   \npage_activity_duration                                0.377375   0.018353   \ntotal_load_time                                      -0.000306  -0.009850   \npct_scroll_move                                       0.028508  -0.017929   \nproduct_ean                                          -0.004389   0.021498   \nsession_duration                                      0.003397  -0.015884   \n\n                                pct_scrandom  pct_wild_mouse  session_id  \\\npct_click_product_info              0.003696        0.004052   -0.006344   \nuser_id                            -0.004869        0.007491   -0.006726   \nscreen_height                      -0.001251        0.001167   -0.008654   \npct_scroll_move_duration            0.009491        0.006220    0.005457   \nscroll_move_total_rel_distance     -0.001068        0.004258    0.005911   \npct_click                           0.007205       -0.001896   -0.006639   \npct_scrandom                        1.000000        0.005152   -0.004283   \npct_wild_mouse                      0.005152        1.000000   -0.003425   \nsession_id                         -0.004283       -0.003425    1.000000   \nbrowser_name                       -0.008089       -0.017571    0.002104   \npct_input                           0.005468        0.016012    0.000530   \nscreen_width                       -0.011758        0.004117    0.018817   \nmouse_move_total_rel_distance       0.008145        0.000206    0.003292   \npct_mouse_click                     0.004120       -0.015955    0.012849   \nwild_mouse_duration                 0.012836        0.002863    0.000342   \npct_mouse_move                     -0.002040       -0.003925    0.012727   \npct_doubleclick                     0.010160        0.002429   -0.001721   \npct_rage_click                     -0.001958       -0.033015    0.010164   \nack                                -0.004392        0.005942    0.003958   \npage_activity_duration             -0.020293        0.003105    0.008848   \ntotal_load_time                     0.001689        0.002277   -0.017095   \npct_scroll_move                     0.000969        0.006158   -0.012509   \nproduct_ean                        -0.007892        0.002818    0.012286   \nsession_duration                    0.020171       -0.006361   -0.001015   \n\n                                browser_name  ...  wild_mouse_duration  \\\npct_click_product_info             -0.005408  ...            -0.014891   \nuser_id                            -0.012310  ...             0.002476   \nscreen_height                       0.001948  ...             0.010601   \npct_scroll_move_duration            0.016577  ...            -0.288118   \nscroll_move_total_rel_distance     -0.017672  ...             0.276726   \npct_click                           0.002185  ...            -0.600952   \npct_scrandom                       -0.008089  ...             0.012836   \npct_wild_mouse                     -0.017571  ...             0.002863   \nsession_id                          0.002104  ...             0.000342   \nbrowser_name                        1.000000  ...            -0.011194   \npct_input                           0.002755  ...             0.284594   \nscreen_width                        0.005797  ...            -0.007979   \nmouse_move_total_rel_distance      -0.011329  ...             0.107700   \npct_mouse_click                    -0.005083  ...            -0.000968   \nwild_mouse_duration                -0.011194  ...             1.000000   \npct_mouse_move                     -0.027374  ...             0.006966   \npct_doubleclick                     0.000156  ...             0.418725   \npct_rage_click                     -0.007301  ...            -0.002815   \nack                                -0.012061  ...             0.159883   \npage_activity_duration             -0.008499  ...            -0.385588   \ntotal_load_time                    -0.016990  ...             0.005318   \npct_scroll_move                     0.004059  ...             0.010354   \nproduct_ean                         0.008255  ...            -0.008871   \nsession_duration                    0.001748  ...             0.010422   \n\n                                pct_mouse_move  pct_doubleclick  \\\npct_click_product_info                0.012935        -0.008905   \nuser_id                               0.006799         0.006065   \nscreen_height                         0.023018        -0.022171   \npct_scroll_move_duration              0.009151        -0.064477   \nscroll_move_total_rel_distance        0.009507        -0.375990   \npct_click                            -0.027780         0.060911   \npct_scrandom                         -0.002040         0.010160   \npct_wild_mouse                       -0.003925         0.002429   \nsession_id                            0.012727        -0.001721   \nbrowser_name                         -0.027374         0.000156   \npct_input                            -0.009064         0.138409   \nscreen_width                          0.005136        -0.008023   \nmouse_move_total_rel_distance         0.015459         0.117142   \npct_mouse_click                       0.006248         0.000657   \nwild_mouse_duration                   0.006966         0.418725   \npct_mouse_move                        1.000000        -0.017598   \npct_doubleclick                      -0.017598         1.000000   \npct_rage_click                        0.004660        -0.002809   \nack                                   0.010394        -0.411079   \npage_activity_duration                0.002178        -0.077316   \ntotal_load_time                       0.010740        -0.000127   \npct_scroll_move                       0.004821        -0.024406   \nproduct_ean                          -0.000341         0.005550   \nsession_duration                     -0.006010        -0.004859   \n\n                                pct_rage_click       ack  \\\npct_click_product_info                0.009318  0.016203   \nuser_id                               0.005616 -0.015086   \nscreen_height                        -0.003689  0.018981   \npct_scroll_move_duration              0.004501 -0.002601   \nscroll_move_total_rel_distance       -0.006839  0.748836   \npct_click                            -0.003464 -0.365507   \npct_scrandom                         -0.001958 -0.004392   \npct_wild_mouse                       -0.033015  0.005942   \nsession_id                            0.010164  0.003958   \nbrowser_name                         -0.007301 -0.012061   \npct_input                            -0.017926  0.020071   \nscreen_width                         -0.009115  0.004227   \nmouse_move_total_rel_distance        -0.002280 -0.005957   \npct_mouse_click                      -0.001224 -0.013861   \nwild_mouse_duration                  -0.002815  0.159883   \npct_mouse_move                        0.004660  0.010394   \npct_doubleclick                      -0.002809 -0.411079   \npct_rage_click                        1.000000 -0.010234   \nack                                  -0.010234  1.000000   \npage_activity_duration               -0.003921  0.391346   \ntotal_load_time                      -0.006930  0.008222   \npct_scroll_move                      -0.002999  0.032146   \nproduct_ean                           0.005737 -0.007857   \nsession_duration                     -0.006328 -0.006566   \n\n                                page_activity_duration  total_load_time  \\\npct_click_product_info                        0.022844         0.015809   \nuser_id                                      -0.006646         0.004424   \nscreen_height                                 0.001101         0.019119   \npct_scroll_move_duration                     -0.072752        -0.005312   \nscroll_move_total_rel_distance                0.377375        -0.000306   \npct_click                                     0.018353        -0.009850   \npct_scrandom                                 -0.020293         0.001689   \npct_wild_mouse                                0.003105         0.002277   \nsession_id                                    0.008848        -0.017095   \nbrowser_name                                 -0.008499        -0.016990   \npct_input                                    -0.098027        -0.009790   \nscreen_width                                  0.005649        -0.002783   \nmouse_move_total_rel_distance                 0.087594        -0.021658   \npct_mouse_click                              -0.006896         0.017337   \nwild_mouse_duration                          -0.385588         0.005318   \npct_mouse_move                                0.002178         0.010740   \npct_doubleclick                              -0.077316        -0.000127   \npct_rage_click                               -0.003921        -0.006930   \nack                                           0.391346         0.008222   \npage_activity_duration                        1.000000         0.000225   \ntotal_load_time                               0.000225         1.000000   \npct_scroll_move                              -0.000975        -0.005419   \nproduct_ean                                  -0.003776         0.014334   \nsession_duration                             -0.002832        -0.012855   \n\n                                pct_scroll_move  product_ean  session_duration  \npct_click_product_info                -0.005129    -0.005883          0.007635  \nuser_id                               -0.009054    -0.003065         -0.008193  \nscreen_height                         -0.010867    -0.002161          0.000028  \npct_scroll_move_duration               0.003906     0.007914         -0.010987  \nscroll_move_total_rel_distance         0.028508    -0.004389          0.003397  \npct_click                             -0.017929     0.021498         -0.015884  \npct_scrandom                           0.000969    -0.007892          0.020171  \npct_wild_mouse                         0.006158     0.002818         -0.006361  \nsession_id                            -0.012509     0.012286         -0.001015  \nbrowser_name                           0.004059     0.008255          0.001748  \npct_input                              0.007111    -0.010168         -0.005611  \nscreen_width                          -0.004830    -0.001699          0.012465  \nmouse_move_total_rel_distance         -0.002000     0.001221         -0.005028  \npct_mouse_click                        0.009634    -0.014234         -0.002919  \nwild_mouse_duration                    0.010354    -0.008871          0.010422  \npct_mouse_move                         0.004821    -0.000341         -0.006010  \npct_doubleclick                       -0.024406     0.005550         -0.004859  \npct_rage_click                        -0.002999     0.005737         -0.006328  \nack                                    0.032146    -0.007857         -0.006566  \npage_activity_duration                -0.000975    -0.003776         -0.002832  \ntotal_load_time                       -0.005419     0.014334         -0.012855  \npct_scroll_move                        1.000000    -0.003135         -0.012497  \nproduct_ean                           -0.003135     1.000000         -0.004389  \nsession_duration                      -0.012497    -0.004389          1.000000  \n\n[24 rows x 24 columns]",
      "text/html": "<div>\n<style scoped>\n    .dataframe tbody tr th:only-of-type {\n        vertical-align: middle;\n    }\n\n    .dataframe tbody tr th {\n        vertical-align: top;\n    }\n\n    .dataframe thead th {\n        text-align: right;\n    }\n</style>\n<table border=\"1\" class=\"dataframe\">\n  <thead>\n    <tr style=\"text-align: right;\">\n      <th></th>\n      <th>pct_click_product_info</th>\n      <th>user_id</th>\n      <th>screen_height</th>\n      <th>pct_scroll_move_duration</th>\n      <th>scroll_move_total_rel_distance</th>\n      <th>pct_click</th>\n      <th>pct_scrandom</th>\n      <th>pct_wild_mouse</th>\n      <th>session_id</th>\n      <th>browser_name</th>\n      <th>...</th>\n      <th>wild_mouse_duration</th>\n      <th>pct_mouse_move</th>\n      <th>pct_doubleclick</th>\n      <th>pct_rage_click</th>\n      <th>ack</th>\n      <th>page_activity_duration</th>\n      <th>total_load_time</th>\n      <th>pct_scroll_move</th>\n      <th>product_ean</th>\n      <th>session_duration</th>\n    </tr>\n  </thead>\n  <tbody>\n    <tr>\n      <th>pct_click_product_info</th>\n      <td>1.000000</td>\n      <td>0.000326</td>\n      <td>0.007523</td>\n      <td>0.004251</td>\n      <td>0.003077</td>\n      <td>-0.004542</td>\n      <td>0.003696</td>\n      <td>0.004052</td>\n      <td>-0.006344</td>\n      <td>-0.005408</td>\n      <td>...</td>\n      <td>-0.014891</td>\n      <td>0.012935</td>\n      <td>-0.008905</td>\n      <td>0.009318</td>\n      <td>0.016203</td>\n      <td>0.022844</td>\n      <td>0.015809</td>\n      <td>-0.005129</td>\n      <td>-0.005883</td>\n      <td>0.007635</td>\n    </tr>\n    <tr>\n      <th>user_id</th>\n      <td>0.000326</td>\n      <td>1.000000</td>\n      <td>-0.014482</td>\n      <td>-0.007840</td>\n      <td>0.000148</td>\n      <td>0.013858</td>\n      <td>-0.004869</td>\n      <td>0.007491</td>\n      <td>-0.006726</td>\n      <td>-0.012310</td>\n      <td>...</td>\n      <td>0.002476</td>\n      <td>0.006799</td>\n      <td>0.006065</td>\n      <td>0.005616</td>\n      <td>-0.015086</td>\n      <td>-0.006646</td>\n      <td>0.004424</td>\n      <td>-0.009054</td>\n      <td>-0.003065</td>\n      <td>-0.008193</td>\n    </tr>\n    <tr>\n      <th>screen_height</th>\n      <td>0.007523</td>\n      <td>-0.014482</td>\n      <td>1.000000</td>\n      <td>-0.011312</td>\n      <td>0.019207</td>\n      <td>-0.020951</td>\n      <td>-0.001251</td>\n      <td>0.001167</td>\n      <td>-0.008654</td>\n      <td>0.001948</td>\n      <td>...</td>\n      <td>0.010601</td>\n      <td>0.023018</td>\n      <td>-0.022171</td>\n      <td>-0.003689</td>\n      <td>0.018981</td>\n      <td>0.001101</td>\n      <td>0.019119</td>\n      <td>-0.010867</td>\n      <td>-0.002161</td>\n      <td>0.000028</td>\n    </tr>\n    <tr>\n      <th>pct_scroll_move_duration</th>\n      <td>0.004251</td>\n      <td>-0.007840</td>\n      <td>-0.011312</td>\n      <td>1.000000</td>\n      <td>-0.145849</td>\n      <td>0.073057</td>\n      <td>0.009491</td>\n      <td>0.006220</td>\n      <td>0.005457</td>\n      <td>0.016577</td>\n      <td>...</td>\n      <td>-0.288118</td>\n      <td>0.009151</td>\n      <td>-0.064477</td>\n      <td>0.004501</td>\n      <td>-0.002601</td>\n      <td>-0.072752</td>\n      <td>-0.005312</td>\n      <td>0.003906</td>\n      <td>0.007914</td>\n      <td>-0.010987</td>\n    </tr>\n    <tr>\n      <th>scroll_move_total_rel_distance</th>\n      <td>0.003077</td>\n      <td>0.000148</td>\n      <td>0.019207</td>\n      <td>-0.145849</td>\n      <td>1.000000</td>\n      <td>-0.186315</td>\n      <td>-0.001068</td>\n      <td>0.004258</td>\n      <td>0.005911</td>\n      <td>-0.017672</td>\n      <td>...</td>\n      <td>0.276726</td>\n      <td>0.009507</td>\n      <td>-0.375990</td>\n      <td>-0.006839</td>\n      <td>0.748836</td>\n      <td>0.377375</td>\n      <td>-0.000306</td>\n      <td>0.028508</td>\n      <td>-0.004389</td>\n      <td>0.003397</td>\n    </tr>\n    <tr>\n      <th>pct_click</th>\n      <td>-0.004542</td>\n      <td>0.013858</td>\n      <td>-0.020951</td>\n      <td>0.073057</td>\n      <td>-0.186315</td>\n      <td>1.000000</td>\n      <td>0.007205</td>\n      <td>-0.001896</td>\n      <td>-0.006639</td>\n      <td>0.002185</td>\n      <td>...</td>\n      <td>-0.600952</td>\n      <td>-0.027780</td>\n      <td>0.060911</td>\n      <td>-0.003464</td>\n      <td>-0.365507</td>\n      <td>0.018353</td>\n      <td>-0.009850</td>\n      <td>-0.017929</td>\n      <td>0.021498</td>\n      <td>-0.015884</td>\n    </tr>\n    <tr>\n      <th>pct_scrandom</th>\n      <td>0.003696</td>\n      <td>-0.004869</td>\n      <td>-0.001251</td>\n      <td>0.009491</td>\n      <td>-0.001068</td>\n      <td>0.007205</td>\n      <td>1.000000</td>\n      <td>0.005152</td>\n      <td>-0.004283</td>\n      <td>-0.008089</td>\n      <td>...</td>\n      <td>0.012836</td>\n      <td>-0.002040</td>\n      <td>0.010160</td>\n      <td>-0.001958</td>\n      <td>-0.004392</td>\n      <td>-0.020293</td>\n      <td>0.001689</td>\n      <td>0.000969</td>\n      <td>-0.007892</td>\n      <td>0.020171</td>\n    </tr>\n    <tr>\n      <th>pct_wild_mouse</th>\n      <td>0.004052</td>\n      <td>0.007491</td>\n      <td>0.001167</td>\n      <td>0.006220</td>\n      <td>0.004258</td>\n      <td>-0.001896</td>\n      <td>0.005152</td>\n      <td>1.000000</td>\n      <td>-0.003425</td>\n      <td>-0.017571</td>\n      <td>...</td>\n      <td>0.002863</td>\n      <td>-0.003925</td>\n      <td>0.002429</td>\n      <td>-0.033015</td>\n      <td>0.005942</td>\n      <td>0.003105</td>\n      <td>0.002277</td>\n      <td>0.006158</td>\n      <td>0.002818</td>\n      <td>-0.006361</td>\n    </tr>\n    <tr>\n      <th>session_id</th>\n      <td>-0.006344</td>\n      <td>-0.006726</td>\n      <td>-0.008654</td>\n      <td>0.005457</td>\n      <td>0.005911</td>\n      <td>-0.006639</td>\n      <td>-0.004283</td>\n      <td>-0.003425</td>\n      <td>1.000000</td>\n      <td>0.002104</td>\n      <td>...</td>\n      <td>0.000342</td>\n      <td>0.012727</td>\n      <td>-0.001721</td>\n      <td>0.010164</td>\n      <td>0.003958</td>\n      <td>0.008848</td>\n      <td>-0.017095</td>\n      <td>-0.012509</td>\n      <td>0.012286</td>\n      <td>-0.001015</td>\n    </tr>\n    <tr>\n      <th>browser_name</th>\n      <td>-0.005408</td>\n      <td>-0.012310</td>\n      <td>0.001948</td>\n      <td>0.016577</td>\n      <td>-0.017672</td>\n      <td>0.002185</td>\n      <td>-0.008089</td>\n      <td>-0.017571</td>\n      <td>0.002104</td>\n      <td>1.000000</td>\n      <td>...</td>\n      <td>-0.011194</td>\n      <td>-0.027374</td>\n      <td>0.000156</td>\n      <td>-0.007301</td>\n      <td>-0.012061</td>\n      <td>-0.008499</td>\n      <td>-0.016990</td>\n      <td>0.004059</td>\n      <td>0.008255</td>\n      <td>0.001748</td>\n    </tr>\n    <tr>\n      <th>pct_input</th>\n      <td>-0.015007</td>\n      <td>0.003394</td>\n      <td>0.003800</td>\n      <td>-0.151716</td>\n      <td>0.055554</td>\n      <td>-0.166344</td>\n      <td>0.005468</td>\n      <td>0.016012</td>\n      <td>0.000530</td>\n      <td>0.002755</td>\n      <td>...</td>\n      <td>0.284594</td>\n      <td>-0.009064</td>\n      <td>0.138409</td>\n      <td>-0.017926</td>\n      <td>0.020071</td>\n      <td>-0.098027</td>\n      <td>-0.009790</td>\n      <td>0.007111</td>\n      <td>-0.010168</td>\n      <td>-0.005611</td>\n    </tr>\n    <tr>\n      <th>screen_width</th>\n      <td>-0.014717</td>\n      <td>0.005078</td>\n      <td>0.019475</td>\n      <td>0.019933</td>\n      <td>0.007094</td>\n      <td>0.000699</td>\n      <td>-0.011758</td>\n      <td>0.004117</td>\n      <td>0.018817</td>\n      <td>0.005797</td>\n      <td>...</td>\n      <td>-0.007979</td>\n      <td>0.005136</td>\n      <td>-0.008023</td>\n      <td>-0.009115</td>\n      <td>0.004227</td>\n      <td>0.005649</td>\n      <td>-0.002783</td>\n      <td>-0.004830</td>\n      <td>-0.001699</td>\n      <td>0.012465</td>\n    </tr>\n    <tr>\n      <th>mouse_move_total_rel_distance</th>\n      <td>0.013939</td>\n      <td>-0.000285</td>\n      <td>0.011769</td>\n      <td>0.229056</td>\n      <td>-0.066497</td>\n      <td>-0.296849</td>\n      <td>0.008145</td>\n      <td>0.000206</td>\n      <td>0.003292</td>\n      <td>-0.011329</td>\n      <td>...</td>\n      <td>0.107700</td>\n      <td>0.015459</td>\n      <td>0.117142</td>\n      <td>-0.002280</td>\n      <td>-0.005957</td>\n      <td>0.087594</td>\n      <td>-0.021658</td>\n      <td>-0.002000</td>\n      <td>0.001221</td>\n      <td>-0.005028</td>\n    </tr>\n    <tr>\n      <th>pct_mouse_click</th>\n      <td>-0.008457</td>\n      <td>0.010342</td>\n      <td>0.012241</td>\n      <td>0.004713</td>\n      <td>-0.001692</td>\n      <td>0.005848</td>\n      <td>0.004120</td>\n      <td>-0.015955</td>\n      <td>0.012849</td>\n      <td>-0.005083</td>\n      <td>...</td>\n      <td>-0.000968</td>\n      <td>0.006248</td>\n      <td>0.000657</td>\n      <td>-0.001224</td>\n      <td>-0.013861</td>\n      <td>-0.006896</td>\n      <td>0.017337</td>\n      <td>0.009634</td>\n      <td>-0.014234</td>\n      <td>-0.002919</td>\n    </tr>\n    <tr>\n      <th>wild_mouse_duration</th>\n      <td>-0.014891</td>\n      <td>0.002476</td>\n      <td>0.010601</td>\n      <td>-0.288118</td>\n      <td>0.276726</td>\n      <td>-0.600952</td>\n      <td>0.012836</td>\n      <td>0.002863</td>\n      <td>0.000342</td>\n      <td>-0.011194</td>\n      <td>...</td>\n      <td>1.000000</td>\n      <td>0.006966</td>\n      <td>0.418725</td>\n      <td>-0.002815</td>\n      <td>0.159883</td>\n      <td>-0.385588</td>\n      <td>0.005318</td>\n      <td>0.010354</td>\n      <td>-0.008871</td>\n      <td>0.010422</td>\n    </tr>\n    <tr>\n      <th>pct_mouse_move</th>\n      <td>0.012935</td>\n      <td>0.006799</td>\n      <td>0.023018</td>\n      <td>0.009151</td>\n      <td>0.009507</td>\n      <td>-0.027780</td>\n      <td>-0.002040</td>\n      <td>-0.003925</td>\n      <td>0.012727</td>\n      <td>-0.027374</td>\n      <td>...</td>\n      <td>0.006966</td>\n      <td>1.000000</td>\n      <td>-0.017598</td>\n      <td>0.004660</td>\n      <td>0.010394</td>\n      <td>0.002178</td>\n      <td>0.010740</td>\n      <td>0.004821</td>\n      <td>-0.000341</td>\n      <td>-0.006010</td>\n    </tr>\n    <tr>\n      <th>pct_doubleclick</th>\n      <td>-0.008905</td>\n      <td>0.006065</td>\n      <td>-0.022171</td>\n      <td>-0.064477</td>\n      <td>-0.375990</td>\n      <td>0.060911</td>\n      <td>0.010160</td>\n      <td>0.002429</td>\n      <td>-0.001721</td>\n      <td>0.000156</td>\n      <td>...</td>\n      <td>0.418725</td>\n      <td>-0.017598</td>\n      <td>1.000000</td>\n      <td>-0.002809</td>\n      <td>-0.411079</td>\n      <td>-0.077316</td>\n      <td>-0.000127</td>\n      <td>-0.024406</td>\n      <td>0.005550</td>\n      <td>-0.004859</td>\n    </tr>\n    <tr>\n      <th>pct_rage_click</th>\n      <td>0.009318</td>\n      <td>0.005616</td>\n      <td>-0.003689</td>\n      <td>0.004501</td>\n      <td>-0.006839</td>\n      <td>-0.003464</td>\n      <td>-0.001958</td>\n      <td>-0.033015</td>\n      <td>0.010164</td>\n      <td>-0.007301</td>\n      <td>...</td>\n      <td>-0.002815</td>\n      <td>0.004660</td>\n      <td>-0.002809</td>\n      <td>1.000000</td>\n      <td>-0.010234</td>\n      <td>-0.003921</td>\n      <td>-0.006930</td>\n      <td>-0.002999</td>\n      <td>0.005737</td>\n      <td>-0.006328</td>\n    </tr>\n    <tr>\n      <th>ack</th>\n      <td>0.016203</td>\n      <td>-0.015086</td>\n      <td>0.018981</td>\n      <td>-0.002601</td>\n      <td>0.748836</td>\n      <td>-0.365507</td>\n      <td>-0.004392</td>\n      <td>0.005942</td>\n      <td>0.003958</td>\n      <td>-0.012061</td>\n      <td>...</td>\n      <td>0.159883</td>\n      <td>0.010394</td>\n      <td>-0.411079</td>\n      <td>-0.010234</td>\n      <td>1.000000</td>\n      <td>0.391346</td>\n      <td>0.008222</td>\n      <td>0.032146</td>\n      <td>-0.007857</td>\n      <td>-0.006566</td>\n    </tr>\n    <tr>\n      <th>page_activity_duration</th>\n      <td>0.022844</td>\n      <td>-0.006646</td>\n      <td>0.001101</td>\n      <td>-0.072752</td>\n      <td>0.377375</td>\n      <td>0.018353</td>\n      <td>-0.020293</td>\n      <td>0.003105</td>\n      <td>0.008848</td>\n      <td>-0.008499</td>\n      <td>...</td>\n      <td>-0.385588</td>\n      <td>0.002178</td>\n      <td>-0.077316</td>\n      <td>-0.003921</td>\n      <td>0.391346</td>\n      <td>1.000000</td>\n      <td>0.000225</td>\n      <td>-0.000975</td>\n      <td>-0.003776</td>\n      <td>-0.002832</td>\n    </tr>\n    <tr>\n      <th>total_load_time</th>\n      <td>0.015809</td>\n      <td>0.004424</td>\n      <td>0.019119</td>\n      <td>-0.005312</td>\n      <td>-0.000306</td>\n      <td>-0.009850</td>\n      <td>0.001689</td>\n      <td>0.002277</td>\n      <td>-0.017095</td>\n      <td>-0.016990</td>\n      <td>...</td>\n      <td>0.005318</td>\n      <td>0.010740</td>\n      <td>-0.000127</td>\n      <td>-0.006930</td>\n      <td>0.008222</td>\n      <td>0.000225</td>\n      <td>1.000000</td>\n      <td>-0.005419</td>\n      <td>0.014334</td>\n      <td>-0.012855</td>\n    </tr>\n    <tr>\n      <th>pct_scroll_move</th>\n      <td>-0.005129</td>\n      <td>-0.009054</td>\n      <td>-0.010867</td>\n      <td>0.003906</td>\n      <td>0.028508</td>\n      <td>-0.017929</td>\n      <td>0.000969</td>\n      <td>0.006158</td>\n      <td>-0.012509</td>\n      <td>0.004059</td>\n      <td>...</td>\n      <td>0.010354</td>\n      <td>0.004821</td>\n      <td>-0.024406</td>\n      <td>-0.002999</td>\n      <td>0.032146</td>\n      <td>-0.000975</td>\n      <td>-0.005419</td>\n      <td>1.000000</td>\n      <td>-0.003135</td>\n      <td>-0.012497</td>\n    </tr>\n    <tr>\n      <th>product_ean</th>\n      <td>-0.005883</td>\n      <td>-0.003065</td>\n      <td>-0.002161</td>\n      <td>0.007914</td>\n      <td>-0.004389</td>\n      <td>0.021498</td>\n      <td>-0.007892</td>\n      <td>0.002818</td>\n      <td>0.012286</td>\n      <td>0.008255</td>\n      <td>...</td>\n      <td>-0.008871</td>\n      <td>-0.000341</td>\n      <td>0.005550</td>\n      <td>0.005737</td>\n      <td>-0.007857</td>\n      <td>-0.003776</td>\n      <td>0.014334</td>\n      <td>-0.003135</td>\n      <td>1.000000</td>\n      <td>-0.004389</td>\n    </tr>\n    <tr>\n      <th>session_duration</th>\n      <td>0.007635</td>\n      <td>-0.008193</td>\n      <td>0.000028</td>\n      <td>-0.010987</td>\n      <td>0.003397</td>\n      <td>-0.015884</td>\n      <td>0.020171</td>\n      <td>-0.006361</td>\n      <td>-0.001015</td>\n      <td>0.001748</td>\n      <td>...</td>\n      <td>0.010422</td>\n      <td>-0.006010</td>\n      <td>-0.004859</td>\n      <td>-0.006328</td>\n      <td>-0.006566</td>\n      <td>-0.002832</td>\n      <td>-0.012855</td>\n      <td>-0.012497</td>\n      <td>-0.004389</td>\n      <td>1.000000</td>\n    </tr>\n  </tbody>\n</table>\n<p>24 rows × 24 columns</p>\n</div>"
     },
     "execution_count": 99,
     "metadata": {},
     "output_type": "execute_result"
    }
   ],
   "source": [
    "sessionDataByDate.corr()"
   ],
   "metadata": {
    "collapsed": false
   }
  },
  {
   "cell_type": "markdown",
   "source": [
    "Error in data.. session_duration has values that are negative which doesnt make sense"
   ],
   "metadata": {
    "collapsed": false
   }
  },
  {
   "cell_type": "code",
   "execution_count": 143,
   "outputs": [
    {
     "data": {
      "text/plain": "       pct_click_product_info  user_id  screen_height  \\\n17                   38.28123     1742            600   \n25                   50.12448      739            600   \n61                   55.64567     1618            600   \n83                   52.84043      248           1024   \n88                   81.04498      451            768   \n...                       ...      ...            ...   \n10606                57.21845      816           1080   \n10619                71.44861     1356            768   \n10648                57.96447      465           1080   \n10735                62.40893     2340           1080   \n11074                43.87515     2472            600   \n\n       pct_scroll_move_duration  scroll_move_total_rel_distance  pct_click  \\\n17                     18.31297                        14.30307   11.04180   \n25                     14.28688                        16.57953   11.35682   \n61                     14.46290                        17.10716   11.83151   \n83                     15.15157                        15.26910   11.79433   \n88                     14.39178                        15.51059   12.80444   \n...                         ...                             ...        ...   \n10606                  14.42291                        14.29215   12.30374   \n10619                  15.64622                        16.08163   13.94754   \n10648                  16.72248                        10.72489   17.12412   \n10735                  18.77247                        14.33533   14.84033   \n11074                  14.80135                        15.34200    8.67929   \n\n       pct_scrandom  pct_wild_mouse  session_id  browser_name  ...  \\\n17         60.06797        45.25432      453395             1  ...   \n25         48.99733        29.47399      592098             3  ...   \n61         49.41621        49.16476     1215948             1  ...   \n83         59.90950        39.31403      749697             2  ...   \n88         58.64868        22.49599     1194048             2  ...   \n...             ...             ...         ...           ...  ...   \n10606      44.52898        48.89725     1291652             2  ...   \n10619      56.45898        66.42785     1228582             1  ...   \n10648      52.88547        30.92761     1119952             3  ...   \n10735      57.59423        41.97733      228758             3  ...   \n11074      39.99412        40.39484      687497             2  ...   \n\n       pct_mouse_move  pct_doubleclick  pct_rage_click    ack  \\\n17           11.98782          8.53756        94.98512   True   \n25           14.51939         14.48433        84.14435   True   \n61           12.61039         14.30485        23.47195   True   \n83           12.53658         11.62610        87.54658   True   \n88           13.08147         14.33669        23.40495   True   \n...               ...              ...             ...    ...   \n10606        14.27863         16.12348        87.64975   True   \n10619        13.28725         14.07195        88.66787   True   \n10648        14.72829         14.17581        83.76974  False   \n10735        13.33901         15.73391        23.41132  False   \n11074        13.34928         16.23056        23.43869   True   \n\n       page_activity_duration  total_load_time  pct_scroll_move  \\\n17                   12.27215          6.44479         23.54330   \n25                   13.31128          5.20484         52.07027   \n61                   12.85849          2.95616         40.55047   \n83                   15.77957          2.93208         29.92435   \n88                   16.52857          1.95399         49.63811   \n...                       ...              ...              ...   \n10606                12.86125         11.60340         48.19285   \n10619                15.21901          5.65939         57.76316   \n10648                16.00635          1.63594         24.79259   \n10735                14.99327          4.21034         44.79045   \n11074                15.87726          2.27843         33.96117   \n\n         product_ean  session_duration       session_start  \n17     3869535511682         246.29368 2019-05-26 20:10:06  \n25     2384510431355         306.49130 2022-04-15 15:03:01  \n61     8722771285623         192.86772 2019-07-27 01:56:13  \n83     3343213093641          23.03190 2022-05-01 00:02:52  \n88     6281791285713          68.15887 2022-08-17 05:55:52  \n...              ...               ...                 ...  \n10606  4030713131445         165.30604 2021-10-30 04:35:11  \n10619  8113788120258         150.87079 2019-04-22 21:39:58  \n10648  4187240110433          52.85158 2021-09-09 14:18:32  \n10735  8536238450093          89.20906 2019-03-26 18:13:30  \n11074  1485446835208         126.59540 2021-10-27 13:31:00  \n\n[222 rows x 25 columns]",
      "text/html": "<div>\n<style scoped>\n    .dataframe tbody tr th:only-of-type {\n        vertical-align: middle;\n    }\n\n    .dataframe tbody tr th {\n        vertical-align: top;\n    }\n\n    .dataframe thead th {\n        text-align: right;\n    }\n</style>\n<table border=\"1\" class=\"dataframe\">\n  <thead>\n    <tr style=\"text-align: right;\">\n      <th></th>\n      <th>pct_click_product_info</th>\n      <th>user_id</th>\n      <th>screen_height</th>\n      <th>pct_scroll_move_duration</th>\n      <th>scroll_move_total_rel_distance</th>\n      <th>pct_click</th>\n      <th>pct_scrandom</th>\n      <th>pct_wild_mouse</th>\n      <th>session_id</th>\n      <th>browser_name</th>\n      <th>...</th>\n      <th>pct_mouse_move</th>\n      <th>pct_doubleclick</th>\n      <th>pct_rage_click</th>\n      <th>ack</th>\n      <th>page_activity_duration</th>\n      <th>total_load_time</th>\n      <th>pct_scroll_move</th>\n      <th>product_ean</th>\n      <th>session_duration</th>\n      <th>session_start</th>\n    </tr>\n  </thead>\n  <tbody>\n    <tr>\n      <th>17</th>\n      <td>38.28123</td>\n      <td>1742</td>\n      <td>600</td>\n      <td>18.31297</td>\n      <td>14.30307</td>\n      <td>11.04180</td>\n      <td>60.06797</td>\n      <td>45.25432</td>\n      <td>453395</td>\n      <td>1</td>\n      <td>...</td>\n      <td>11.98782</td>\n      <td>8.53756</td>\n      <td>94.98512</td>\n      <td>True</td>\n      <td>12.27215</td>\n      <td>6.44479</td>\n      <td>23.54330</td>\n      <td>3869535511682</td>\n      <td>246.29368</td>\n      <td>2019-05-26 20:10:06</td>\n    </tr>\n    <tr>\n      <th>25</th>\n      <td>50.12448</td>\n      <td>739</td>\n      <td>600</td>\n      <td>14.28688</td>\n      <td>16.57953</td>\n      <td>11.35682</td>\n      <td>48.99733</td>\n      <td>29.47399</td>\n      <td>592098</td>\n      <td>3</td>\n      <td>...</td>\n      <td>14.51939</td>\n      <td>14.48433</td>\n      <td>84.14435</td>\n      <td>True</td>\n      <td>13.31128</td>\n      <td>5.20484</td>\n      <td>52.07027</td>\n      <td>2384510431355</td>\n      <td>306.49130</td>\n      <td>2022-04-15 15:03:01</td>\n    </tr>\n    <tr>\n      <th>61</th>\n      <td>55.64567</td>\n      <td>1618</td>\n      <td>600</td>\n      <td>14.46290</td>\n      <td>17.10716</td>\n      <td>11.83151</td>\n      <td>49.41621</td>\n      <td>49.16476</td>\n      <td>1215948</td>\n      <td>1</td>\n      <td>...</td>\n      <td>12.61039</td>\n      <td>14.30485</td>\n      <td>23.47195</td>\n      <td>True</td>\n      <td>12.85849</td>\n      <td>2.95616</td>\n      <td>40.55047</td>\n      <td>8722771285623</td>\n      <td>192.86772</td>\n      <td>2019-07-27 01:56:13</td>\n    </tr>\n    <tr>\n      <th>83</th>\n      <td>52.84043</td>\n      <td>248</td>\n      <td>1024</td>\n      <td>15.15157</td>\n      <td>15.26910</td>\n      <td>11.79433</td>\n      <td>59.90950</td>\n      <td>39.31403</td>\n      <td>749697</td>\n      <td>2</td>\n      <td>...</td>\n      <td>12.53658</td>\n      <td>11.62610</td>\n      <td>87.54658</td>\n      <td>True</td>\n      <td>15.77957</td>\n      <td>2.93208</td>\n      <td>29.92435</td>\n      <td>3343213093641</td>\n      <td>23.03190</td>\n      <td>2022-05-01 00:02:52</td>\n    </tr>\n    <tr>\n      <th>88</th>\n      <td>81.04498</td>\n      <td>451</td>\n      <td>768</td>\n      <td>14.39178</td>\n      <td>15.51059</td>\n      <td>12.80444</td>\n      <td>58.64868</td>\n      <td>22.49599</td>\n      <td>1194048</td>\n      <td>2</td>\n      <td>...</td>\n      <td>13.08147</td>\n      <td>14.33669</td>\n      <td>23.40495</td>\n      <td>True</td>\n      <td>16.52857</td>\n      <td>1.95399</td>\n      <td>49.63811</td>\n      <td>6281791285713</td>\n      <td>68.15887</td>\n      <td>2022-08-17 05:55:52</td>\n    </tr>\n    <tr>\n      <th>...</th>\n      <td>...</td>\n      <td>...</td>\n      <td>...</td>\n      <td>...</td>\n      <td>...</td>\n      <td>...</td>\n      <td>...</td>\n      <td>...</td>\n      <td>...</td>\n      <td>...</td>\n      <td>...</td>\n      <td>...</td>\n      <td>...</td>\n      <td>...</td>\n      <td>...</td>\n      <td>...</td>\n      <td>...</td>\n      <td>...</td>\n      <td>...</td>\n      <td>...</td>\n      <td>...</td>\n    </tr>\n    <tr>\n      <th>10606</th>\n      <td>57.21845</td>\n      <td>816</td>\n      <td>1080</td>\n      <td>14.42291</td>\n      <td>14.29215</td>\n      <td>12.30374</td>\n      <td>44.52898</td>\n      <td>48.89725</td>\n      <td>1291652</td>\n      <td>2</td>\n      <td>...</td>\n      <td>14.27863</td>\n      <td>16.12348</td>\n      <td>87.64975</td>\n      <td>True</td>\n      <td>12.86125</td>\n      <td>11.60340</td>\n      <td>48.19285</td>\n      <td>4030713131445</td>\n      <td>165.30604</td>\n      <td>2021-10-30 04:35:11</td>\n    </tr>\n    <tr>\n      <th>10619</th>\n      <td>71.44861</td>\n      <td>1356</td>\n      <td>768</td>\n      <td>15.64622</td>\n      <td>16.08163</td>\n      <td>13.94754</td>\n      <td>56.45898</td>\n      <td>66.42785</td>\n      <td>1228582</td>\n      <td>1</td>\n      <td>...</td>\n      <td>13.28725</td>\n      <td>14.07195</td>\n      <td>88.66787</td>\n      <td>True</td>\n      <td>15.21901</td>\n      <td>5.65939</td>\n      <td>57.76316</td>\n      <td>8113788120258</td>\n      <td>150.87079</td>\n      <td>2019-04-22 21:39:58</td>\n    </tr>\n    <tr>\n      <th>10648</th>\n      <td>57.96447</td>\n      <td>465</td>\n      <td>1080</td>\n      <td>16.72248</td>\n      <td>10.72489</td>\n      <td>17.12412</td>\n      <td>52.88547</td>\n      <td>30.92761</td>\n      <td>1119952</td>\n      <td>3</td>\n      <td>...</td>\n      <td>14.72829</td>\n      <td>14.17581</td>\n      <td>83.76974</td>\n      <td>False</td>\n      <td>16.00635</td>\n      <td>1.63594</td>\n      <td>24.79259</td>\n      <td>4187240110433</td>\n      <td>52.85158</td>\n      <td>2021-09-09 14:18:32</td>\n    </tr>\n    <tr>\n      <th>10735</th>\n      <td>62.40893</td>\n      <td>2340</td>\n      <td>1080</td>\n      <td>18.77247</td>\n      <td>14.33533</td>\n      <td>14.84033</td>\n      <td>57.59423</td>\n      <td>41.97733</td>\n      <td>228758</td>\n      <td>3</td>\n      <td>...</td>\n      <td>13.33901</td>\n      <td>15.73391</td>\n      <td>23.41132</td>\n      <td>False</td>\n      <td>14.99327</td>\n      <td>4.21034</td>\n      <td>44.79045</td>\n      <td>8536238450093</td>\n      <td>89.20906</td>\n      <td>2019-03-26 18:13:30</td>\n    </tr>\n    <tr>\n      <th>11074</th>\n      <td>43.87515</td>\n      <td>2472</td>\n      <td>600</td>\n      <td>14.80135</td>\n      <td>15.34200</td>\n      <td>8.67929</td>\n      <td>39.99412</td>\n      <td>40.39484</td>\n      <td>687497</td>\n      <td>2</td>\n      <td>...</td>\n      <td>13.34928</td>\n      <td>16.23056</td>\n      <td>23.43869</td>\n      <td>True</td>\n      <td>15.87726</td>\n      <td>2.27843</td>\n      <td>33.96117</td>\n      <td>1485446835208</td>\n      <td>126.59540</td>\n      <td>2021-10-27 13:31:00</td>\n    </tr>\n  </tbody>\n</table>\n<p>222 rows × 25 columns</p>\n</div>"
     },
     "execution_count": 143,
     "metadata": {},
     "output_type": "execute_result"
    }
   ],
   "source": [
    "q_low = sessionData[\"pct_rage_click\"].quantile(0.01)\n",
    "q_hi  = sessionData[\"pct_rage_click\"].quantile(0.99)\n",
    "\n",
    "sessionData_filtered = sessionData[(sessionData[\"pct_rage_click\"] > q_hi) | (sessionData[\"pct_rage_click\"] < q_low)]\n",
    "sessionData_filtered"
   ],
   "metadata": {
    "collapsed": false
   }
  },
  {
   "cell_type": "markdown",
   "source": [
    "sessionData has duplicate records.. we kibaszni oket"
   ],
   "metadata": {
    "collapsed": false
   }
  },
  {
   "cell_type": "code",
   "execution_count": 144,
   "outputs": [
    {
     "data": {
      "text/plain": "       pct_click_product_info  user_id  screen_height  \\\n983                  48.37397      267           1080   \n1318                 62.05914      580            600   \n1393                 59.40215      189           1080   \n2202                 39.74497      563           1080   \n2379                 70.12884       25           1080   \n...                       ...      ...            ...   \n10810                37.59017     1925            600   \n10991                56.85847      361            600   \n11014                54.29983      237           1024   \n11026                41.06783     1612            768   \n11052                61.11230     1525           1080   \n\n       pct_scroll_move_duration  scroll_move_total_rel_distance  pct_click  \\\n983                    16.68598                        14.20017    9.94797   \n1318                   15.26316                        15.06188   10.71781   \n1393                   17.79222                        14.48315   12.04148   \n2202                   12.77465                         8.21429    9.51061   \n2379                   15.86123                        15.13604   12.26151   \n...                         ...                             ...        ...   \n10810                  14.13451                        16.33852   13.89001   \n10991                  15.95222                        15.29471   10.78582   \n11014                  14.65840                        10.78516   15.94599   \n11026                  12.60919                        13.07561   12.67581   \n11052                  15.77726                        14.86640   11.30307   \n\n       pct_scrandom  pct_wild_mouse  session_id  browser_name  ...  \\\n983        50.54804        46.29693      281347             3  ...   \n1318       56.98822        43.36464      717213             3  ...   \n1393       69.84494        60.02704      361649             6  ...   \n2202       65.36588        30.66952      133432             0  ...   \n2379       43.64868        51.98837      300036             3  ...   \n...             ...             ...         ...           ...  ...   \n10810      48.21494        51.31630     1164443             5  ...   \n10991      58.61568        58.49896     1316455             2  ...   \n11014      59.82786        49.18477     1031408             2  ...   \n11026      35.27268        44.32491     1233998             0  ...   \n11052      53.54527        26.71752      530305             2  ...   \n\n       pct_mouse_move  pct_doubleclick  pct_rage_click    ack  \\\n983          12.18365         12.13922        58.80231   True   \n1318         13.89699         15.15973        36.28334   True   \n1393         11.33101         13.02092        66.84967   True   \n2202         12.59529         16.25052        65.17875  False   \n2379         13.43268         12.34012        52.36559   True   \n...               ...              ...             ...    ...   \n10810        12.38206         11.47344        45.11051   True   \n10991        13.25681         15.85457        38.80705   True   \n11014        14.42890         15.54141        69.83771  False   \n11026        12.75051         15.15697        43.56732  False   \n11052        13.30749         16.61042        68.31854   True   \n\n       page_activity_duration  total_load_time  pct_scroll_move  \\\n983                  15.66347          2.84155         46.11601   \n1318                 17.07576          2.37337         30.89787   \n1393                 13.68354          3.65458         46.47321   \n2202                 12.89388          3.23724         26.38995   \n2379                 14.18285          2.96383         21.87672   \n...                       ...              ...              ...   \n10810                15.43087          3.75096         59.00726   \n10991                15.79610          2.73898         30.91434   \n11014                14.22281          3.89949         53.14389   \n11026                17.43756          5.85407         44.33126   \n11052                14.68835          0.71800         47.53037   \n\n         product_ean  session_duration       session_start  \n983     835138051835         247.88846 2021-08-03 10:12:53  \n1318   1706183499851         148.64538 2023-06-22 05:54:51  \n1393   3822576145155         113.93500 2019-07-17 16:47:59  \n2202   4515599434236          29.41757 2020-03-20 21:56:38  \n2379   2368345144420         147.53450 2023-06-15 01:32:40  \n...              ...               ...                 ...  \n10810  2676468477210         131.86549 2021-03-28 23:36:56  \n10991  4049837162877         195.48201 2021-01-25 05:06:32  \n11014  5107791460312         211.39770 2021-04-06 14:20:46  \n11026  6821499207961         211.31416 2020-08-07 08:17:17  \n11052  2583853292535         140.07754 2021-02-26 19:45:15  \n\n[132 rows x 25 columns]",
      "text/html": "<div>\n<style scoped>\n    .dataframe tbody tr th:only-of-type {\n        vertical-align: middle;\n    }\n\n    .dataframe tbody tr th {\n        vertical-align: top;\n    }\n\n    .dataframe thead th {\n        text-align: right;\n    }\n</style>\n<table border=\"1\" class=\"dataframe\">\n  <thead>\n    <tr style=\"text-align: right;\">\n      <th></th>\n      <th>pct_click_product_info</th>\n      <th>user_id</th>\n      <th>screen_height</th>\n      <th>pct_scroll_move_duration</th>\n      <th>scroll_move_total_rel_distance</th>\n      <th>pct_click</th>\n      <th>pct_scrandom</th>\n      <th>pct_wild_mouse</th>\n      <th>session_id</th>\n      <th>browser_name</th>\n      <th>...</th>\n      <th>pct_mouse_move</th>\n      <th>pct_doubleclick</th>\n      <th>pct_rage_click</th>\n      <th>ack</th>\n      <th>page_activity_duration</th>\n      <th>total_load_time</th>\n      <th>pct_scroll_move</th>\n      <th>product_ean</th>\n      <th>session_duration</th>\n      <th>session_start</th>\n    </tr>\n  </thead>\n  <tbody>\n    <tr>\n      <th>983</th>\n      <td>48.37397</td>\n      <td>267</td>\n      <td>1080</td>\n      <td>16.68598</td>\n      <td>14.20017</td>\n      <td>9.94797</td>\n      <td>50.54804</td>\n      <td>46.29693</td>\n      <td>281347</td>\n      <td>3</td>\n      <td>...</td>\n      <td>12.18365</td>\n      <td>12.13922</td>\n      <td>58.80231</td>\n      <td>True</td>\n      <td>15.66347</td>\n      <td>2.84155</td>\n      <td>46.11601</td>\n      <td>835138051835</td>\n      <td>247.88846</td>\n      <td>2021-08-03 10:12:53</td>\n    </tr>\n    <tr>\n      <th>1318</th>\n      <td>62.05914</td>\n      <td>580</td>\n      <td>600</td>\n      <td>15.26316</td>\n      <td>15.06188</td>\n      <td>10.71781</td>\n      <td>56.98822</td>\n      <td>43.36464</td>\n      <td>717213</td>\n      <td>3</td>\n      <td>...</td>\n      <td>13.89699</td>\n      <td>15.15973</td>\n      <td>36.28334</td>\n      <td>True</td>\n      <td>17.07576</td>\n      <td>2.37337</td>\n      <td>30.89787</td>\n      <td>1706183499851</td>\n      <td>148.64538</td>\n      <td>2023-06-22 05:54:51</td>\n    </tr>\n    <tr>\n      <th>1393</th>\n      <td>59.40215</td>\n      <td>189</td>\n      <td>1080</td>\n      <td>17.79222</td>\n      <td>14.48315</td>\n      <td>12.04148</td>\n      <td>69.84494</td>\n      <td>60.02704</td>\n      <td>361649</td>\n      <td>6</td>\n      <td>...</td>\n      <td>11.33101</td>\n      <td>13.02092</td>\n      <td>66.84967</td>\n      <td>True</td>\n      <td>13.68354</td>\n      <td>3.65458</td>\n      <td>46.47321</td>\n      <td>3822576145155</td>\n      <td>113.93500</td>\n      <td>2019-07-17 16:47:59</td>\n    </tr>\n    <tr>\n      <th>2202</th>\n      <td>39.74497</td>\n      <td>563</td>\n      <td>1080</td>\n      <td>12.77465</td>\n      <td>8.21429</td>\n      <td>9.51061</td>\n      <td>65.36588</td>\n      <td>30.66952</td>\n      <td>133432</td>\n      <td>0</td>\n      <td>...</td>\n      <td>12.59529</td>\n      <td>16.25052</td>\n      <td>65.17875</td>\n      <td>False</td>\n      <td>12.89388</td>\n      <td>3.23724</td>\n      <td>26.38995</td>\n      <td>4515599434236</td>\n      <td>29.41757</td>\n      <td>2020-03-20 21:56:38</td>\n    </tr>\n    <tr>\n      <th>2379</th>\n      <td>70.12884</td>\n      <td>25</td>\n      <td>1080</td>\n      <td>15.86123</td>\n      <td>15.13604</td>\n      <td>12.26151</td>\n      <td>43.64868</td>\n      <td>51.98837</td>\n      <td>300036</td>\n      <td>3</td>\n      <td>...</td>\n      <td>13.43268</td>\n      <td>12.34012</td>\n      <td>52.36559</td>\n      <td>True</td>\n      <td>14.18285</td>\n      <td>2.96383</td>\n      <td>21.87672</td>\n      <td>2368345144420</td>\n      <td>147.53450</td>\n      <td>2023-06-15 01:32:40</td>\n    </tr>\n    <tr>\n      <th>...</th>\n      <td>...</td>\n      <td>...</td>\n      <td>...</td>\n      <td>...</td>\n      <td>...</td>\n      <td>...</td>\n      <td>...</td>\n      <td>...</td>\n      <td>...</td>\n      <td>...</td>\n      <td>...</td>\n      <td>...</td>\n      <td>...</td>\n      <td>...</td>\n      <td>...</td>\n      <td>...</td>\n      <td>...</td>\n      <td>...</td>\n      <td>...</td>\n      <td>...</td>\n      <td>...</td>\n    </tr>\n    <tr>\n      <th>10810</th>\n      <td>37.59017</td>\n      <td>1925</td>\n      <td>600</td>\n      <td>14.13451</td>\n      <td>16.33852</td>\n      <td>13.89001</td>\n      <td>48.21494</td>\n      <td>51.31630</td>\n      <td>1164443</td>\n      <td>5</td>\n      <td>...</td>\n      <td>12.38206</td>\n      <td>11.47344</td>\n      <td>45.11051</td>\n      <td>True</td>\n      <td>15.43087</td>\n      <td>3.75096</td>\n      <td>59.00726</td>\n      <td>2676468477210</td>\n      <td>131.86549</td>\n      <td>2021-03-28 23:36:56</td>\n    </tr>\n    <tr>\n      <th>10991</th>\n      <td>56.85847</td>\n      <td>361</td>\n      <td>600</td>\n      <td>15.95222</td>\n      <td>15.29471</td>\n      <td>10.78582</td>\n      <td>58.61568</td>\n      <td>58.49896</td>\n      <td>1316455</td>\n      <td>2</td>\n      <td>...</td>\n      <td>13.25681</td>\n      <td>15.85457</td>\n      <td>38.80705</td>\n      <td>True</td>\n      <td>15.79610</td>\n      <td>2.73898</td>\n      <td>30.91434</td>\n      <td>4049837162877</td>\n      <td>195.48201</td>\n      <td>2021-01-25 05:06:32</td>\n    </tr>\n    <tr>\n      <th>11014</th>\n      <td>54.29983</td>\n      <td>237</td>\n      <td>1024</td>\n      <td>14.65840</td>\n      <td>10.78516</td>\n      <td>15.94599</td>\n      <td>59.82786</td>\n      <td>49.18477</td>\n      <td>1031408</td>\n      <td>2</td>\n      <td>...</td>\n      <td>14.42890</td>\n      <td>15.54141</td>\n      <td>69.83771</td>\n      <td>False</td>\n      <td>14.22281</td>\n      <td>3.89949</td>\n      <td>53.14389</td>\n      <td>5107791460312</td>\n      <td>211.39770</td>\n      <td>2021-04-06 14:20:46</td>\n    </tr>\n    <tr>\n      <th>11026</th>\n      <td>41.06783</td>\n      <td>1612</td>\n      <td>768</td>\n      <td>12.60919</td>\n      <td>13.07561</td>\n      <td>12.67581</td>\n      <td>35.27268</td>\n      <td>44.32491</td>\n      <td>1233998</td>\n      <td>0</td>\n      <td>...</td>\n      <td>12.75051</td>\n      <td>15.15697</td>\n      <td>43.56732</td>\n      <td>False</td>\n      <td>17.43756</td>\n      <td>5.85407</td>\n      <td>44.33126</td>\n      <td>6821499207961</td>\n      <td>211.31416</td>\n      <td>2020-08-07 08:17:17</td>\n    </tr>\n    <tr>\n      <th>11052</th>\n      <td>61.11230</td>\n      <td>1525</td>\n      <td>1080</td>\n      <td>15.77726</td>\n      <td>14.86640</td>\n      <td>11.30307</td>\n      <td>53.54527</td>\n      <td>26.71752</td>\n      <td>530305</td>\n      <td>2</td>\n      <td>...</td>\n      <td>13.30749</td>\n      <td>16.61042</td>\n      <td>68.31854</td>\n      <td>True</td>\n      <td>14.68835</td>\n      <td>0.71800</td>\n      <td>47.53037</td>\n      <td>2583853292535</td>\n      <td>140.07754</td>\n      <td>2021-02-26 19:45:15</td>\n    </tr>\n  </tbody>\n</table>\n<p>132 rows × 25 columns</p>\n</div>"
     },
     "execution_count": 144,
     "metadata": {},
     "output_type": "execute_result"
    }
   ],
   "source": [
    "sessionData[sessionData.duplicated]"
   ],
   "metadata": {
    "collapsed": false
   }
  },
  {
   "cell_type": "code",
   "execution_count": 147,
   "outputs": [
    {
     "data": {
      "text/plain": "10975"
     },
     "execution_count": 147,
     "metadata": {},
     "output_type": "execute_result"
    }
   ],
   "source": [
    "sessionData.drop_duplicates().shape[0]"
   ],
   "metadata": {
    "collapsed": false
   }
  },
  {
   "cell_type": "code",
   "execution_count": 3,
   "outputs": [],
   "source": [
    "userData[\"registration\"] = userData[\"registration\"].apply(lambda x: pd.to_datetime(x).strftime(\"%Y-%m-%d\"))"
   ],
   "metadata": {
    "collapsed": false
   }
  },
  {
   "cell_type": "code",
   "execution_count": 4,
   "outputs": [
    {
     "data": {
      "text/plain": "[]"
     },
     "execution_count": 4,
     "metadata": {},
     "output_type": "execute_result"
    }
   ],
   "source": [
    "import re\n",
    "\n",
    "# ([^\\s]+)@  any character except a whitespace at least once for the username followed by @\n",
    "# ([^\\s]+)\\. any character except a whitespace at least once for the domain name(until the dot) followed by a dot\n",
    "# ([^\\s]){2,3} any character except a whitespace 2-3 times to finish the domain name\n",
    "check = [address for address in userData.mail if not re.match(\"^([^\\s]+)@([^\\s]+)\\.([^\\s]){2,3}$\", address)]\n",
    "# empty list means all the addresses are correct\n",
    "check"
   ],
   "metadata": {
    "collapsed": false
   }
  },
  {
   "cell_type": "code",
   "execution_count": 5,
   "outputs": [],
   "source": [
    "uniques = list(userData.race.unique())\n",
    "for i in uniques:\n",
    "    if type(i) == float:\n",
    "        uniques.remove(i)\n",
    "        break\n",
    "userData.race = [\"unspecified\" if race not in uniques else race for race in userData.race]"
   ],
   "metadata": {
    "collapsed": false
   }
  },
  {
   "cell_type": "code",
   "execution_count": 6,
   "outputs": [
    {
     "name": "stdout",
     "output_type": "stream",
     "text": [
      "sex: 1262\n",
      "residence: 1641\n",
      "address: 379\n",
      "current_location: 126\n",
      "birthdate: 1136\n"
     ]
    }
   ],
   "source": [
    "for column in userData.columns:\n",
    "    if (nans := userData[column].isna().sum()) > 0:\n",
    "        print(f\"{column}: {nans}\")"
   ],
   "metadata": {
    "collapsed": false
   }
  },
  {
   "cell_type": "code",
   "execution_count": null,
   "outputs": [],
   "source": [],
   "metadata": {
    "collapsed": false
   }
  }
 ],
 "metadata": {
  "kernelspec": {
   "display_name": "Python 3 (ipykernel)",
   "language": "python",
   "name": "python3"
  },
  "language_info": {
   "codemirror_mode": {
    "name": "ipython",
    "version": 3
   },
   "file_extension": ".py",
   "mimetype": "text/x-python",
   "name": "python",
   "nbconvert_exporter": "python",
   "pygments_lexer": "ipython3",
   "version": "3.9.7"
  }
 },
 "nbformat": 4,
 "nbformat_minor": 5
}
